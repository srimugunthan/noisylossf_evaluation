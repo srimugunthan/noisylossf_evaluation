{
  "nbformat": 4,
  "nbformat_minor": 0,
  "metadata": {
    "colab": {
      "provenance": []
    },
    "kernelspec": {
      "name": "python3",
      "display_name": "Python 3"
    },
    "language_info": {
      "name": "python"
    }
  },
  "cells": [
    {
      "cell_type": "code",
      "execution_count": 1,
      "metadata": {
        "id": "KYqnMseA3MSD"
      },
      "outputs": [],
      "source": [
        "\n",
        "\n",
        "import tensorflow as tf\n",
        "from tensorflow import keras\n",
        "import argparse\n"
      ]
    },
    {
      "cell_type": "code",
      "source": [
        "from google.colab import drive\n",
        "drive.mount('/content/drive')\n",
        "import os\n",
        "os.chdir('/content/drive/My Drive/Colab Notebooks/noisyloss/')\n",
        "\n",
        "\n"
      ],
      "metadata": {
        "colab": {
          "base_uri": "https://localhost:8080/"
        },
        "id": "8g6JO5QddrAL",
        "outputId": "6a8a6a62-528e-4eb7-e837-90931a7a01d0"
      },
      "execution_count": null,
      "outputs": [
        {
          "output_type": "stream",
          "name": "stdout",
          "text": [
            "Mounted at /content/drive\n"
          ]
        }
      ]
    },
    {
      "cell_type": "code",
      "source": [
        "import loss_functions"
      ],
      "metadata": {
        "id": "IsQw5W_DgGzu"
      },
      "execution_count": null,
      "outputs": []
    },
    {
      "cell_type": "code",
      "source": [
        "crentr_loss_fn = loss_functions.crossentropy_reed_wrap(0.3)"
      ],
      "metadata": {
        "id": "O44T-Q78gPnU"
      },
      "execution_count": null,
      "outputs": []
    },
    {
      "cell_type": "code",
      "source": [
        "# Example usage:\n",
        "alpha = 0.1\n",
        "beta = 1.0\n",
        "symloss_fn = loss_functions.symmetric_cross_entropy(alpha, beta)"
      ],
      "metadata": {
        "id": "MADbCFEUgfCT"
      },
      "execution_count": null,
      "outputs": []
    },
    {
      "cell_type": "code",
      "source": [
        "lq_loss_fn = loss_functions.lq_loss_wrap(0.3)"
      ],
      "metadata": {
        "id": "DiLWGDWo_pZT"
      },
      "execution_count": null,
      "outputs": []
    },
    {
      "cell_type": "code",
      "source": [
        "mae_loss_multi_class = loss_functions.mae_loss_multi_class"
      ],
      "metadata": {
        "id": "-NlduSejJJhf"
      },
      "execution_count": null,
      "outputs": []
    },
    {
      "cell_type": "code",
      "source": [
        "# from tensorflow.keras.utils import plot_model\n",
        "# from IPython.display import Image, display\n",
        "\n",
        "# # Assuming you have created your model using the create_model function\n",
        "# model = create_model()\n",
        "\n",
        "# # Generate the plot and get the image data\n",
        "# # We set to_file=None to prevent saving to a file and get bytes instead\n",
        "# plot_model(model, show_shapes=True,to_file=\"./model_arch.jpg\")\n"
      ],
      "metadata": {
        "id": "QLVKbtplzmal"
      },
      "execution_count": null,
      "outputs": []
    },
    {
      "cell_type": "code",
      "source": [
        "\n",
        "\n",
        "(x_train, y_train), (x_test, y_test) = keras.datasets.mnist.load_data()\n",
        "\n",
        "# Preprocess the data\n",
        "x_train = x_train.astype('float32') / 255.0\n",
        "x_test = x_test.astype('float32') / 255.0\n",
        "x_train = x_train.reshape(-1, 28, 28, 1)\n",
        "x_test = x_test.reshape(-1, 28, 28, 1)"
      ],
      "metadata": {
        "id": "DMY0MoAaTqcq"
      },
      "execution_count": null,
      "outputs": []
    },
    {
      "cell_type": "code",
      "source": [
        "img_rows, img_cols = x_train.shape[1], x_train.shape[2]\n",
        "print(img_rows,img_cols)"
      ],
      "metadata": {
        "id": "hglpIQyydn0p"
      },
      "execution_count": null,
      "outputs": []
    },
    {
      "cell_type": "code",
      "source": [
        "\n",
        "\n",
        "# --- 2. Build the RNN Model (using LSTM) ---\n",
        "def create_model(input_shape=(img_rows, img_cols), num_classes=10):\n",
        "    model = keras.Sequential([\n",
        "        # Input layer: (timesteps, input_dim) -> (28, 28) for MNIST\n",
        "        # The LSTM layer processes the sequence of rows.\n",
        "        # It returns the output for the LAST timestep, which summarizes the sequence.\n",
        "        keras.layers.LSTM(128, input_shape=input_shape), # 128 LSTM units\n",
        "\n",
        "        keras.layers.Dropout(0.3), # Dropout for regularization\n",
        "\n",
        "        # Output Layer\n",
        "        keras.layers.Dense(num_classes, activation='softmax') # 10 neurons for 10 classes\n",
        "    ])\n",
        "    return model"
      ],
      "metadata": {
        "id": "STf3X6Rh3VGy"
      },
      "execution_count": null,
      "outputs": []
    },
    {
      "cell_type": "markdown",
      "metadata": {
        "id": "VlbZkqTr0qzE"
      },
      "source": [
        "## noisy labels"
      ]
    },
    {
      "cell_type": "code",
      "execution_count": null,
      "metadata": {
        "collapsed": true,
        "id": "tI0TIgK60qzE"
      },
      "outputs": [],
      "source": [
        "import numpy as np\n",
        "NOISE_LEVEL=0.6  # what part of training labels are permuted\n",
        "perm = np.array([7, 9, 0, 4, 2, 1, 3, 5, 6, 8])  # noise permutation (from Reed)"
      ]
    },
    {
      "cell_type": "code",
      "execution_count": null,
      "metadata": {
        "collapsed": true,
        "id": "JqS33nVU0qzE"
      },
      "outputs": [],
      "source": [
        "noise = perm[y_train.astype(int)]"
      ]
    },
    {
      "cell_type": "code",
      "source": [
        "noise"
      ],
      "metadata": {
        "id": "jY86wEbecZzD",
        "outputId": "105e1a12-7373-46e1-8ea6-39fb9ef562b0",
        "colab": {
          "base_uri": "https://localhost:8080/"
        }
      },
      "execution_count": null,
      "outputs": [
        {
          "output_type": "execute_result",
          "data": {
            "text/plain": [
              "array([1, 7, 2, ..., 1, 3, 6])"
            ]
          },
          "metadata": {},
          "execution_count": 41
        }
      ]
    },
    {
      "cell_type": "code",
      "source": [
        "# replace some of the training labels with permuted (noise) labels.\n",
        "# make sure each categories receive an equal amount of noise\n",
        "\n",
        "\n",
        "from sklearn.model_selection import StratifiedShuffleSplit\n",
        "if NOISE_LEVEL > 0:\n",
        "  _, noise_idx = next(iter(StratifiedShuffleSplit(n_splits=1,\n",
        "                                                  test_size=NOISE_LEVEL,\n",
        "                                                  random_state=42).split(x_train,y_train)))\n",
        "  y_train_noise = y_train.copy()\n",
        "  y_train_noise[noise_idx] = noise[noise_idx]\n",
        "  # break the training set to 10% validation which we will use for early stopping.\n",
        "  train_idx, val_idx = next(iter(\n",
        "          StratifiedShuffleSplit(n_splits=1, test_size=0.1,\n",
        "                                random_state=42).split(x_train, y_train_noise)))\n",
        "  X_train_train = x_train[train_idx]\n",
        "  y_train_correct = y_train[train_idx]\n",
        "  y_train_train = y_train_noise[train_idx]\n",
        "  X_train_val = x_train[val_idx]\n",
        "  y_train_val = y_train_noise[val_idx]\n",
        "  y_train_val_correct = y_train[val_idx]\n",
        "else:\n",
        "  train_idx, val_idx = next(iter(\n",
        "        StratifiedShuffleSplit(n_splits=1, test_size=0.1,\n",
        "                               random_state=42).split(x_train, y_train)))\n",
        "  X_train_train = x_train[train_idx]\n",
        "  y_train_train = y_train[train_idx]\n",
        "  y_train_correct = y_train[train_idx]\n",
        "  X_train_val = x_train[val_idx]\n",
        "  y_train_val = y_train[val_idx]\n",
        "  y_train_val_correct = y_train[val_idx]\n",
        "\n",
        "\n",
        "\n"
      ],
      "metadata": {
        "id": "OcqdhPMead1Z"
      },
      "execution_count": null,
      "outputs": []
    },
    {
      "cell_type": "code",
      "source": [
        "\n",
        "\n",
        "from keras.callbacks import EarlyStopping\n",
        "from sklearn import metrics\n",
        "\n",
        "model = create_model()\n",
        "model.compile(optimizer='adam',\n",
        "                    loss=mae_loss_multi_class,\n",
        "                    metrics=['accuracy'])\n",
        "\n",
        "history = model.fit(X_train_train,\n",
        "                      y_train_train,\n",
        "                      batch_size=512,\n",
        "                      epochs=25,\n",
        "                      verbose=True,\n",
        "                      validation_data=(X_train_val,\n",
        "                                      y_train_val_correct),\n",
        "                      callbacks=\n",
        "                      [EarlyStopping(patience=4,mode='min',\n",
        "                                    verbose=True)]\n",
        "                      )\n",
        "\n",
        "# Evaluate the model\n",
        "#loss, accuracy = model.evaluate(x_test, y_test, verbose=0)\n",
        "#y_pred = model.predict(x_test)\n",
        "y_pred_probs = model.predict(x_test)  # Get predicted probabilities\n",
        "y_pred = np.argmax(y_pred_probs, axis=1)  # Convert probabilities to class labels\n",
        "\n",
        "\n",
        "\n",
        "acc = metrics.accuracy_score(y_test, y_pred)\n",
        "macro_averaged_f1 = metrics.f1_score(y_test, y_pred, average = 'macro')\n",
        "print(\"accuracy\",acc)\n",
        "print(\"macro_f1\",macro_averaged_f1)\n"
      ],
      "metadata": {
        "colab": {
          "base_uri": "https://localhost:8080/"
        },
        "id": "rHNT7gLpdH-D",
        "outputId": "a04500d8-3c9d-478f-96c2-bbffe6d31a67"
      },
      "execution_count": null,
      "outputs": [
        {
          "output_type": "stream",
          "name": "stderr",
          "text": [
            "/usr/local/lib/python3.11/dist-packages/keras/src/layers/reshaping/reshape.py:39: UserWarning: Do not pass an `input_shape`/`input_dim` argument to a layer. When using Sequential models, prefer using an `Input(shape)` object as the first layer in the model instead.\n",
            "  super().__init__(**kwargs)\n"
          ]
        },
        {
          "output_type": "stream",
          "name": "stdout",
          "text": [
            "Epoch 1/25\n",
            "\u001b[1m106/106\u001b[0m \u001b[32m━━━━━━━━━━━━━━━━━━━━\u001b[0m\u001b[37m\u001b[0m \u001b[1m2s\u001b[0m 11ms/step - accuracy: 0.2985 - loss: 0.1753 - val_accuracy: 0.2860 - val_loss: 0.1748\n",
            "Epoch 2/25\n",
            "\u001b[1m106/106\u001b[0m \u001b[32m━━━━━━━━━━━━━━━━━━━━\u001b[0m\u001b[37m\u001b[0m \u001b[1m1s\u001b[0m 10ms/step - accuracy: 0.4547 - loss: 0.1699 - val_accuracy: 0.3167 - val_loss: 0.1738\n",
            "Epoch 3/25\n",
            "\u001b[1m106/106\u001b[0m \u001b[32m━━━━━━━━━━━━━━━━━━━━\u001b[0m\u001b[37m\u001b[0m \u001b[1m1s\u001b[0m 10ms/step - accuracy: 0.4749 - loss: 0.1692 - val_accuracy: 0.3482 - val_loss: 0.1729\n",
            "Epoch 4/25\n",
            "\u001b[1m106/106\u001b[0m \u001b[32m━━━━━━━━━━━━━━━━━━━━\u001b[0m\u001b[37m\u001b[0m \u001b[1m1s\u001b[0m 10ms/step - accuracy: 0.4874 - loss: 0.1688 - val_accuracy: 0.3578 - val_loss: 0.1726\n",
            "Epoch 5/25\n",
            "\u001b[1m106/106\u001b[0m \u001b[32m━━━━━━━━━━━━━━━━━━━━\u001b[0m\u001b[37m\u001b[0m \u001b[1m1s\u001b[0m 9ms/step - accuracy: 0.4943 - loss: 0.1686 - val_accuracy: 0.3643 - val_loss: 0.1724\n",
            "Epoch 6/25\n",
            "\u001b[1m106/106\u001b[0m \u001b[32m━━━━━━━━━━━━━━━━━━━━\u001b[0m\u001b[37m\u001b[0m \u001b[1m1s\u001b[0m 9ms/step - accuracy: 0.4983 - loss: 0.1684 - val_accuracy: 0.3650 - val_loss: 0.1723\n",
            "Epoch 7/25\n",
            "\u001b[1m106/106\u001b[0m \u001b[32m━━━━━━━━━━━━━━━━━━━━\u001b[0m\u001b[37m\u001b[0m \u001b[1m1s\u001b[0m 14ms/step - accuracy: 0.5013 - loss: 0.1683 - val_accuracy: 0.3698 - val_loss: 0.1722\n",
            "Epoch 8/25\n",
            "\u001b[1m106/106\u001b[0m \u001b[32m━━━━━━━━━━━━━━━━━━━━\u001b[0m\u001b[37m\u001b[0m \u001b[1m2s\u001b[0m 13ms/step - accuracy: 0.5028 - loss: 0.1683 - val_accuracy: 0.3683 - val_loss: 0.1722\n",
            "Epoch 9/25\n",
            "\u001b[1m106/106\u001b[0m \u001b[32m━━━━━━━━━━━━━━━━━━━━\u001b[0m\u001b[37m\u001b[0m \u001b[1m1s\u001b[0m 9ms/step - accuracy: 0.5043 - loss: 0.1682 - val_accuracy: 0.3692 - val_loss: 0.1722\n",
            "Epoch 10/25\n",
            "\u001b[1m106/106\u001b[0m \u001b[32m━━━━━━━━━━━━━━━━━━━━\u001b[0m\u001b[37m\u001b[0m \u001b[1m1s\u001b[0m 9ms/step - accuracy: 0.5060 - loss: 0.1682 - val_accuracy: 0.3692 - val_loss: 0.1722\n",
            "Epoch 11/25\n",
            "\u001b[1m106/106\u001b[0m \u001b[32m━━━━━━━━━━━━━━━━━━━━\u001b[0m\u001b[37m\u001b[0m \u001b[1m1s\u001b[0m 9ms/step - accuracy: 0.5068 - loss: 0.1681 - val_accuracy: 0.3717 - val_loss: 0.1721\n",
            "Epoch 12/25\n",
            "\u001b[1m106/106\u001b[0m \u001b[32m━━━━━━━━━━━━━━━━━━━━\u001b[0m\u001b[37m\u001b[0m \u001b[1m1s\u001b[0m 10ms/step - accuracy: 0.5081 - loss: 0.1681 - val_accuracy: 0.3702 - val_loss: 0.1722\n",
            "Epoch 13/25\n",
            "\u001b[1m106/106\u001b[0m \u001b[32m━━━━━━━━━━━━━━━━━━━━\u001b[0m\u001b[37m\u001b[0m \u001b[1m1s\u001b[0m 10ms/step - accuracy: 0.5087 - loss: 0.1681 - val_accuracy: 0.3747 - val_loss: 0.1720\n",
            "Epoch 14/25\n",
            "\u001b[1m106/106\u001b[0m \u001b[32m━━━━━━━━━━━━━━━━━━━━\u001b[0m\u001b[37m\u001b[0m \u001b[1m1s\u001b[0m 10ms/step - accuracy: 0.5102 - loss: 0.1680 - val_accuracy: 0.3752 - val_loss: 0.1720\n",
            "Epoch 15/25\n",
            "\u001b[1m106/106\u001b[0m \u001b[32m━━━━━━━━━━━━━━━━━━━━\u001b[0m\u001b[37m\u001b[0m \u001b[1m1s\u001b[0m 10ms/step - accuracy: 0.5111 - loss: 0.1680 - val_accuracy: 0.3735 - val_loss: 0.1720\n",
            "Epoch 16/25\n",
            "\u001b[1m106/106\u001b[0m \u001b[32m━━━━━━━━━━━━━━━━━━━━\u001b[0m\u001b[37m\u001b[0m \u001b[1m1s\u001b[0m 10ms/step - accuracy: 0.5104 - loss: 0.1680 - val_accuracy: 0.3715 - val_loss: 0.1721\n",
            "Epoch 17/25\n",
            "\u001b[1m106/106\u001b[0m \u001b[32m━━━━━━━━━━━━━━━━━━━━\u001b[0m\u001b[37m\u001b[0m \u001b[1m2s\u001b[0m 16ms/step - accuracy: 0.5114 - loss: 0.1680 - val_accuracy: 0.3718 - val_loss: 0.1721\n",
            "Epoch 18/25\n",
            "\u001b[1m106/106\u001b[0m \u001b[32m━━━━━━━━━━━━━━━━━━━━\u001b[0m\u001b[37m\u001b[0m \u001b[1m2s\u001b[0m 15ms/step - accuracy: 0.5112 - loss: 0.1680 - val_accuracy: 0.3725 - val_loss: 0.1721\n",
            "Epoch 18: early stopping\n",
            "\u001b[1m313/313\u001b[0m \u001b[32m━━━━━━━━━━━━━━━━━━━━\u001b[0m\u001b[37m\u001b[0m \u001b[1m1s\u001b[0m 2ms/step\n",
            "accuracy 0.3706\n",
            "macro_f1 0.2525277738052131\n"
          ]
        }
      ]
    },
    {
      "cell_type": "code",
      "source": [
        "\n",
        "import matplotlib.pyplot as plt\n",
        "\n",
        "plt.figure(figsize=(12, 5))\n",
        "\n",
        "# Plot training & validation accuracy values\n",
        "plt.subplot(1, 2, 1)\n",
        "plt.plot(history.history['accuracy'])\n",
        "plt.plot(history.history['val_accuracy'])\n",
        "plt.title('Model Accuracy')\n",
        "plt.ylabel('Accuracy')\n",
        "plt.xlabel('Epoch')\n",
        "plt.legend(['Train', 'Validation'], loc='upper left')\n",
        "\n",
        "# Plot training & validation loss values\n",
        "plt.subplot(1, 2, 2)\n",
        "plt.plot(history.history['loss'])\n",
        "plt.plot(history.history['val_loss'])\n",
        "plt.title('Model Loss')\n",
        "plt.ylabel('Loss')\n",
        "plt.xlabel('Epoch')\n",
        "plt.legend(['Train', 'Validation'], loc='upper left')\n",
        "\n",
        "plt.tight_layout()\n",
        "plt.show()"
      ],
      "metadata": {
        "colab": {
          "base_uri": "https://localhost:8080/",
          "height": 507
        },
        "id": "APU5RpI3cj7z",
        "outputId": "7bad7f18-d9a5-49df-b7ea-82f6a8327ce4"
      },
      "execution_count": null,
      "outputs": [
        {
          "output_type": "display_data",
          "data": {
            "text/plain": [
              "<Figure size 1200x500 with 2 Axes>"
            ],
            "image/png": "[encoded data removed]"
          },
          "metadata": {}
        }
      ]
    },
    {
      "cell_type": "code",
      "source": [
        "print(NOISE_LEVEL)"
      ],
      "metadata": {
        "colab": {
          "base_uri": "https://localhost:8080/"
        },
        "id": "NQFmz_rZ2lV8",
        "outputId": "8b2194c3-1e24-446a-8786-9a0346807529"
      },
      "execution_count": null,
      "outputs": [
        {
          "output_type": "stream",
          "name": "stdout",
          "text": [
            "0.6\n"
          ]
        }
      ]
    },
    {
      "cell_type": "code",
      "source": [
        "from sklearn.model_selection import StratifiedShuffleSplit\n",
        "\n",
        "from keras.callbacks import EarlyStopping\n",
        "from sklearn import metrics\n",
        "import numpy as np\n",
        "\n",
        "seeds = [42, 123, 456]\n",
        "all_results = []\n",
        "\n",
        "for seed in seeds:\n",
        "    print(f\"Running with seed: {seed}\")\n",
        "    tf.random.set_seed(seed)\n",
        "    np.random.seed(seed) # Set numpy seed as well\n",
        "\n",
        "\n",
        "    if NOISE_LEVEL > 0:\n",
        "      _, noise_idx = next(iter(StratifiedShuffleSplit(n_splits=1,\n",
        "                                                      test_size=NOISE_LEVEL,\n",
        "                                                      random_state=seed).split(x_train,y_train)))\n",
        "      y_train_noise = y_train.copy()\n",
        "      y_train_noise[noise_idx] = noise[noise_idx]\n",
        "      # break the training set to 10% validation which we will use for early stopping.\n",
        "      train_idx, val_idx = next(iter(\n",
        "              StratifiedShuffleSplit(n_splits=1, test_size=0.1,\n",
        "                                    random_state=seed).split(x_train, y_train_noise)))\n",
        "      X_train_train = x_train[train_idx]\n",
        "      y_train_correct = y_train[train_idx]\n",
        "      y_train_train = y_train_noise[train_idx]\n",
        "      X_train_val = x_train[val_idx]\n",
        "      y_train_val = y_train_noise[val_idx]\n",
        "      y_train_val_correct = y_train[val_idx]\n",
        "    else:\n",
        "      train_idx, val_idx = next(iter(\n",
        "            StratifiedShuffleSplit(n_splits=1, test_size=0.1,\n",
        "                                  random_state=seed).split(x_train, y_train)))\n",
        "      X_train_train = x_train[train_idx]\n",
        "      y_train_train = y_train[train_idx]\n",
        "      y_train_correct = y_train[train_idx]\n",
        "      X_train_val = x_train[val_idx]\n",
        "      y_train_val = y_train[val_idx]\n",
        "      y_train_val_correct = y_train[val_idx]\n",
        "\n",
        "    model = create_model()\n",
        "    model.compile(optimizer='adam',\n",
        "                        loss=mae_loss_multi_class,\n",
        "                        metrics=['accuracy'])\n",
        "\n",
        "    train_res = model.fit(X_train_train,\n",
        "                          y_train_train,\n",
        "                          batch_size=512,\n",
        "                          epochs=25,\n",
        "                          verbose=True,\n",
        "                          validation_data=(X_train_val,\n",
        "                                          y_train_val_correct),\n",
        "                          callbacks=\n",
        "                          [EarlyStopping(patience=4,mode='min',\n",
        "                                        verbose=True)]\n",
        "                          )\n",
        "\n",
        "    # Evaluate the model\n",
        "    #loss, accuracy = model.evaluate(x_test, y_test, verbose=0)\n",
        "    #y_pred = model.predict(x_test)\n",
        "    y_pred_probs = model.predict(x_test)  # Get predicted probabilities\n",
        "    y_pred = np.argmax(y_pred_probs, axis=1)  # Convert probabilities to class labels\n",
        "\n",
        "    acc = metrics.accuracy_score(y_test, y_pred)\n",
        "    macro_averaged_f1 = metrics.f1_score(y_test, y_pred, average = 'macro')\n",
        "    all_results.append(acc)\n",
        "    print(\"accuracy\",acc)\n",
        "    print(\"macro_f1\",macro_averaged_f1)\n",
        "\n",
        "\n",
        "mean_accuracy = np.mean(all_results)\n",
        "std_accuracy = np.std(all_results)\n",
        "\n",
        "print(f\"Mean accuracy: {mean_accuracy:.4f} +/- {std_accuracy:.4f}\")"
      ],
      "metadata": {
        "colab": {
          "base_uri": "https://localhost:8080/"
        },
        "id": "l7vxFawBuY6c",
        "outputId": "65970f0d-beca-425f-81c1-6d5c91444cc0"
      },
      "execution_count": null,
      "outputs": [
        {
          "output_type": "stream",
          "name": "stdout",
          "text": [
            "Running with seed: 42\n"
          ]
        },
        {
          "output_type": "stream",
          "name": "stderr",
          "text": [
            "/usr/local/lib/python3.11/dist-packages/keras/src/layers/reshaping/reshape.py:39: UserWarning: Do not pass an `input_shape`/`input_dim` argument to a layer. When using Sequential models, prefer using an `Input(shape)` object as the first layer in the model instead.\n",
            "  super().__init__(**kwargs)\n"
          ]
        },
        {
          "output_type": "stream",
          "name": "stdout",
          "text": [
            "Epoch 1/25\n",
            "\u001b[1m106/106\u001b[0m \u001b[32m━━━━━━━━━━━━━━━━━━━━\u001b[0m\u001b[37m\u001b[0m \u001b[1m2s\u001b[0m 12ms/step - accuracy: 0.3276 - loss: 0.1753 - val_accuracy: 0.2578 - val_loss: 0.1756\n",
            "Epoch 2/25\n",
            "\u001b[1m106/106\u001b[0m \u001b[32m━━━━━━━━━━━━━━━━━━━━\u001b[0m\u001b[37m\u001b[0m \u001b[1m2s\u001b[0m 9ms/step - accuracy: 0.4685 - loss: 0.1695 - val_accuracy: 0.2650 - val_loss: 0.1753\n",
            "Epoch 3/25\n",
            "\u001b[1m106/106\u001b[0m \u001b[32m━━━━━━━━━━━━━━━━━━━━\u001b[0m\u001b[37m\u001b[0m \u001b[1m1s\u001b[0m 10ms/step - accuracy: 0.4951 - loss: 0.1686 - val_accuracy: 0.2692 - val_loss: 0.1752\n",
            "Epoch 4/25\n",
            "\u001b[1m106/106\u001b[0m \u001b[32m━━━━━━━━━━━━━━━━━━━━\u001b[0m\u001b[37m\u001b[0m \u001b[1m1s\u001b[0m 9ms/step - accuracy: 0.5048 - loss: 0.1683 - val_accuracy: 0.2745 - val_loss: 0.1750\n",
            "Epoch 5/25\n",
            "\u001b[1m106/106\u001b[0m \u001b[32m━━━━━━━━━━━━━━━━━━━━\u001b[0m\u001b[37m\u001b[0m \u001b[1m2s\u001b[0m 12ms/step - accuracy: 0.5096 - loss: 0.1681 - val_accuracy: 0.2812 - val_loss: 0.1748\n",
            "Epoch 6/25\n",
            "\u001b[1m106/106\u001b[0m \u001b[32m━━━━━━━━━━━━━━━━━━━━\u001b[0m\u001b[37m\u001b[0m \u001b[1m3s\u001b[0m 14ms/step - accuracy: 0.5136 - loss: 0.1680 - val_accuracy: 0.2832 - val_loss: 0.1747\n",
            "Epoch 7/25\n",
            "\u001b[1m106/106\u001b[0m \u001b[32m━━━━━━━━━━━━━━━━━━━━\u001b[0m\u001b[37m\u001b[0m \u001b[1m2s\u001b[0m 9ms/step - accuracy: 0.5151 - loss: 0.1679 - val_accuracy: 0.2838 - val_loss: 0.1747\n",
            "Epoch 8/25\n",
            "\u001b[1m106/106\u001b[0m \u001b[32m━━━━━━━━━━━━━━━━━━━━\u001b[0m\u001b[37m\u001b[0m \u001b[1m1s\u001b[0m 10ms/step - accuracy: 0.5164 - loss: 0.1679 - val_accuracy: 0.2862 - val_loss: 0.1746\n",
            "Epoch 9/25\n",
            "\u001b[1m106/106\u001b[0m \u001b[32m━━━━━━━━━━━━━━━━━━━━\u001b[0m\u001b[37m\u001b[0m \u001b[1m1s\u001b[0m 9ms/step - accuracy: 0.5182 - loss: 0.1678 - val_accuracy: 0.2865 - val_loss: 0.1746\n",
            "Epoch 10/25\n",
            "\u001b[1m106/106\u001b[0m \u001b[32m━━━━━━━━━━━━━━━━━━━━\u001b[0m\u001b[37m\u001b[0m \u001b[1m1s\u001b[0m 9ms/step - accuracy: 0.5200 - loss: 0.1678 - val_accuracy: 0.2853 - val_loss: 0.1747\n",
            "Epoch 11/25\n",
            "\u001b[1m106/106\u001b[0m \u001b[32m━━━━━━━━━━━━━━━━━━━━\u001b[0m\u001b[37m\u001b[0m \u001b[1m1s\u001b[0m 9ms/step - accuracy: 0.5221 - loss: 0.1677 - val_accuracy: 0.2857 - val_loss: 0.1746\n",
            "Epoch 12/25\n",
            "\u001b[1m106/106\u001b[0m \u001b[32m━━━━━━━━━━━━━━━━━━━━\u001b[0m\u001b[37m\u001b[0m \u001b[1m1s\u001b[0m 9ms/step - accuracy: 0.5235 - loss: 0.1677 - val_accuracy: 0.2887 - val_loss: 0.1745\n",
            "Epoch 13/25\n",
            "\u001b[1m106/106\u001b[0m \u001b[32m━━━━━━━━━━━━━━━━━━━━\u001b[0m\u001b[37m\u001b[0m \u001b[1m1s\u001b[0m 9ms/step - accuracy: 0.5254 - loss: 0.1676 - val_accuracy: 0.2897 - val_loss: 0.1745\n",
            "Epoch 14/25\n",
            "\u001b[1m106/106\u001b[0m \u001b[32m━━━━━━━━━━━━━━━━━━━━\u001b[0m\u001b[37m\u001b[0m \u001b[1m1s\u001b[0m 11ms/step - accuracy: 0.5268 - loss: 0.1676 - val_accuracy: 0.2898 - val_loss: 0.1745\n",
            "Epoch 15/25\n",
            "\u001b[1m106/106\u001b[0m \u001b[32m━━━━━━━━━━━━━━━━━━━━\u001b[0m\u001b[37m\u001b[0m \u001b[1m2s\u001b[0m 16ms/step - accuracy: 0.5280 - loss: 0.1675 - val_accuracy: 0.2885 - val_loss: 0.1745\n",
            "Epoch 16/25\n",
            "\u001b[1m106/106\u001b[0m \u001b[32m━━━━━━━━━━━━━━━━━━━━\u001b[0m\u001b[37m\u001b[0m \u001b[1m2s\u001b[0m 10ms/step - accuracy: 0.5287 - loss: 0.1675 - val_accuracy: 0.2910 - val_loss: 0.1745\n",
            "Epoch 17/25\n",
            "\u001b[1m106/106\u001b[0m \u001b[32m━━━━━━━━━━━━━━━━━━━━\u001b[0m\u001b[37m\u001b[0m \u001b[1m1s\u001b[0m 9ms/step - accuracy: 0.5291 - loss: 0.1675 - val_accuracy: 0.2925 - val_loss: 0.1744\n",
            "Epoch 18/25\n",
            "\u001b[1m106/106\u001b[0m \u001b[32m━━━━━━━━━━━━━━━━━━━━\u001b[0m\u001b[37m\u001b[0m \u001b[1m1s\u001b[0m 9ms/step - accuracy: 0.5291 - loss: 0.1675 - val_accuracy: 0.2902 - val_loss: 0.1744\n",
            "Epoch 19/25\n",
            "\u001b[1m106/106\u001b[0m \u001b[32m━━━━━━━━━━━━━━━━━━━━\u001b[0m\u001b[37m\u001b[0m \u001b[1m1s\u001b[0m 9ms/step - accuracy: 0.5293 - loss: 0.1675 - val_accuracy: 0.2908 - val_loss: 0.1744\n",
            "Epoch 20/25\n",
            "\u001b[1m106/106\u001b[0m \u001b[32m━━━━━━━━━━━━━━━━━━━━\u001b[0m\u001b[37m\u001b[0m \u001b[1m1s\u001b[0m 9ms/step - accuracy: 0.5301 - loss: 0.1674 - val_accuracy: 0.2880 - val_loss: 0.1745\n",
            "Epoch 21/25\n",
            "\u001b[1m106/106\u001b[0m \u001b[32m━━━━━━━━━━━━━━━━━━━━\u001b[0m\u001b[37m\u001b[0m \u001b[1m1s\u001b[0m 10ms/step - accuracy: 0.5308 - loss: 0.1674 - val_accuracy: 0.2877 - val_loss: 0.1746\n",
            "Epoch 21: early stopping\n",
            "\u001b[1m313/313\u001b[0m \u001b[32m━━━━━━━━━━━━━━━━━━━━\u001b[0m\u001b[37m\u001b[0m \u001b[1m1s\u001b[0m 1ms/step\n",
            "accuracy 0.2836\n",
            "macro_f1 0.1947339162710961\n",
            "Running with seed: 123\n"
          ]
        },
        {
          "output_type": "stream",
          "name": "stderr",
          "text": [
            "/usr/local/lib/python3.11/dist-packages/keras/src/layers/reshaping/reshape.py:39: UserWarning: Do not pass an `input_shape`/`input_dim` argument to a layer. When using Sequential models, prefer using an `Input(shape)` object as the first layer in the model instead.\n",
            "  super().__init__(**kwargs)\n"
          ]
        },
        {
          "output_type": "stream",
          "name": "stdout",
          "text": [
            "Epoch 1/25\n",
            "\u001b[1m106/106\u001b[0m \u001b[32m━━━━━━━━━━━━━━━━━━━━\u001b[0m\u001b[37m\u001b[0m \u001b[1m3s\u001b[0m 13ms/step - accuracy: 0.2946 - loss: 0.1755 - val_accuracy: 0.2293 - val_loss: 0.1765\n",
            "Epoch 2/25\n",
            "\u001b[1m106/106\u001b[0m \u001b[32m━━━━━━━━━━━━━━━━━━━━\u001b[0m\u001b[37m\u001b[0m \u001b[1m3s\u001b[0m 15ms/step - accuracy: 0.4425 - loss: 0.1702 - val_accuracy: 0.2483 - val_loss: 0.1758\n",
            "Epoch 3/25\n",
            "\u001b[1m106/106\u001b[0m \u001b[32m━━━━━━━━━━━━━━━━━━━━\u001b[0m\u001b[37m\u001b[0m \u001b[1m1s\u001b[0m 9ms/step - accuracy: 0.4979 - loss: 0.1686 - val_accuracy: 0.2660 - val_loss: 0.1753\n",
            "Epoch 4/25\n",
            "\u001b[1m106/106\u001b[0m \u001b[32m━━━━━━━━━━━━━━━━━━━━\u001b[0m\u001b[37m\u001b[0m \u001b[1m1s\u001b[0m 9ms/step - accuracy: 0.5062 - loss: 0.1683 - val_accuracy: 0.2702 - val_loss: 0.1752\n",
            "Epoch 5/25\n",
            "\u001b[1m106/106\u001b[0m \u001b[32m━━━━━━━━━━━━━━━━━━━━\u001b[0m\u001b[37m\u001b[0m \u001b[1m1s\u001b[0m 9ms/step - accuracy: 0.5115 - loss: 0.1681 - val_accuracy: 0.2717 - val_loss: 0.1751\n",
            "Epoch 6/25\n",
            "\u001b[1m106/106\u001b[0m \u001b[32m━━━━━━━━━━━━━━━━━━━━\u001b[0m\u001b[37m\u001b[0m \u001b[1m1s\u001b[0m 9ms/step - accuracy: 0.5148 - loss: 0.1680 - val_accuracy: 0.2727 - val_loss: 0.1750\n",
            "Epoch 7/25\n",
            "\u001b[1m106/106\u001b[0m \u001b[32m━━━━━━━━━━━━━━━━━━━━\u001b[0m\u001b[37m\u001b[0m \u001b[1m1s\u001b[0m 9ms/step - accuracy: 0.5180 - loss: 0.1679 - val_accuracy: 0.2738 - val_loss: 0.1750\n",
            "Epoch 8/25\n",
            "\u001b[1m106/106\u001b[0m \u001b[32m━━━━━━━━━━━━━━━━━━━━\u001b[0m\u001b[37m\u001b[0m \u001b[1m1s\u001b[0m 10ms/step - accuracy: 0.5202 - loss: 0.1678 - val_accuracy: 0.2733 - val_loss: 0.1750\n",
            "Epoch 9/25\n",
            "\u001b[1m106/106\u001b[0m \u001b[32m━━━━━━━━━━━━━━━━━━━━\u001b[0m\u001b[37m\u001b[0m \u001b[1m1s\u001b[0m 9ms/step - accuracy: 0.5210 - loss: 0.1677 - val_accuracy: 0.2778 - val_loss: 0.1748\n",
            "Epoch 10/25\n",
            "\u001b[1m106/106\u001b[0m \u001b[32m━━━━━━━━━━━━━━━━━━━━\u001b[0m\u001b[37m\u001b[0m \u001b[1m1s\u001b[0m 9ms/step - accuracy: 0.5227 - loss: 0.1677 - val_accuracy: 0.2773 - val_loss: 0.1748\n",
            "Epoch 11/25\n",
            "\u001b[1m106/106\u001b[0m \u001b[32m━━━━━━━━━━━━━━━━━━━━\u001b[0m\u001b[37m\u001b[0m \u001b[1m1s\u001b[0m 11ms/step - accuracy: 0.5244 - loss: 0.1676 - val_accuracy: 0.2773 - val_loss: 0.1749\n",
            "Epoch 12/25\n",
            "\u001b[1m106/106\u001b[0m \u001b[32m━━━━━━━━━━━━━━━━━━━━\u001b[0m\u001b[37m\u001b[0m \u001b[1m2s\u001b[0m 15ms/step - accuracy: 0.5256 - loss: 0.1676 - val_accuracy: 0.2760 - val_loss: 0.1749\n",
            "Epoch 13/25\n",
            "\u001b[1m106/106\u001b[0m \u001b[32m━━━━━━━━━━━━━━━━━━━━\u001b[0m\u001b[37m\u001b[0m \u001b[1m2s\u001b[0m 11ms/step - accuracy: 0.5270 - loss: 0.1675 - val_accuracy: 0.2760 - val_loss: 0.1749\n",
            "Epoch 14/25\n",
            "\u001b[1m106/106\u001b[0m \u001b[32m━━━━━━━━━━━━━━━━━━━━\u001b[0m\u001b[37m\u001b[0m \u001b[1m1s\u001b[0m 9ms/step - accuracy: 0.5277 - loss: 0.1675 - val_accuracy: 0.2788 - val_loss: 0.1748\n",
            "Epoch 15/25\n",
            "\u001b[1m106/106\u001b[0m \u001b[32m━━━━━━━━━━━━━━━━━━━━\u001b[0m\u001b[37m\u001b[0m \u001b[1m1s\u001b[0m 10ms/step - accuracy: 0.5283 - loss: 0.1675 - val_accuracy: 0.2785 - val_loss: 0.1748\n",
            "Epoch 16/25\n",
            "\u001b[1m106/106\u001b[0m \u001b[32m━━━━━━━━━━━━━━━━━━━━\u001b[0m\u001b[37m\u001b[0m \u001b[1m1s\u001b[0m 9ms/step - accuracy: 0.5288 - loss: 0.1675 - val_accuracy: 0.2788 - val_loss: 0.1748\n",
            "Epoch 17/25\n",
            "\u001b[1m106/106\u001b[0m \u001b[32m━━━━━━━━━━━━━━━━━━━━\u001b[0m\u001b[37m\u001b[0m \u001b[1m1s\u001b[0m 9ms/step - accuracy: 0.5303 - loss: 0.1674 - val_accuracy: 0.2795 - val_loss: 0.1748\n",
            "Epoch 18/25\n",
            "\u001b[1m106/106\u001b[0m \u001b[32m━━━━━━━━━━━━━━━━━━━━\u001b[0m\u001b[37m\u001b[0m \u001b[1m1s\u001b[0m 9ms/step - accuracy: 0.5310 - loss: 0.1674 - val_accuracy: 0.2815 - val_loss: 0.1747\n",
            "Epoch 19/25\n",
            "\u001b[1m106/106\u001b[0m \u001b[32m━━━━━━━━━━━━━━━━━━━━\u001b[0m\u001b[37m\u001b[0m \u001b[1m1s\u001b[0m 9ms/step - accuracy: 0.5312 - loss: 0.1674 - val_accuracy: 0.2807 - val_loss: 0.1748\n",
            "Epoch 20/25\n",
            "\u001b[1m106/106\u001b[0m \u001b[32m━━━━━━━━━━━━━━━━━━━━\u001b[0m\u001b[37m\u001b[0m \u001b[1m1s\u001b[0m 9ms/step - accuracy: 0.5324 - loss: 0.1674 - val_accuracy: 0.2778 - val_loss: 0.1748\n",
            "Epoch 21/25\n",
            "\u001b[1m106/106\u001b[0m \u001b[32m━━━━━━━━━━━━━━━━━━━━\u001b[0m\u001b[37m\u001b[0m \u001b[1m1s\u001b[0m 9ms/step - accuracy: 0.5328 - loss: 0.1673 - val_accuracy: 0.2783 - val_loss: 0.1748\n",
            "Epoch 22/25\n",
            "\u001b[1m106/106\u001b[0m \u001b[32m━━━━━━━━━━━━━━━━━━━━\u001b[0m\u001b[37m\u001b[0m \u001b[1m1s\u001b[0m 14ms/step - accuracy: 0.5336 - loss: 0.1673 - val_accuracy: 0.2790 - val_loss: 0.1748\n",
            "Epoch 22: early stopping\n",
            "\u001b[1m313/313\u001b[0m \u001b[32m━━━━━━━━━━━━━━━━━━━━\u001b[0m\u001b[37m\u001b[0m \u001b[1m1s\u001b[0m 2ms/step\n",
            "accuracy 0.2713\n",
            "macro_f1 0.18882771611351953\n",
            "Running with seed: 456\n"
          ]
        },
        {
          "output_type": "stream",
          "name": "stderr",
          "text": [
            "/usr/local/lib/python3.11/dist-packages/keras/src/layers/reshaping/reshape.py:39: UserWarning: Do not pass an `input_shape`/`input_dim` argument to a layer. When using Sequential models, prefer using an `Input(shape)` object as the first layer in the model instead.\n",
            "  super().__init__(**kwargs)\n"
          ]
        },
        {
          "output_type": "stream",
          "name": "stdout",
          "text": [
            "Epoch 1/25\n",
            "\u001b[1m106/106\u001b[0m \u001b[32m━━━━━━━━━━━━━━━━━━━━\u001b[0m\u001b[37m\u001b[0m \u001b[1m2s\u001b[0m 11ms/step - accuracy: 0.3110 - loss: 0.1755 - val_accuracy: 0.2553 - val_loss: 0.1757\n",
            "Epoch 2/25\n",
            "\u001b[1m106/106\u001b[0m \u001b[32m━━━━━━━━━━━━━━━━━━━━\u001b[0m\u001b[37m\u001b[0m \u001b[1m1s\u001b[0m 9ms/step - accuracy: 0.4654 - loss: 0.1696 - val_accuracy: 0.2677 - val_loss: 0.1752\n",
            "Epoch 3/25\n",
            "\u001b[1m106/106\u001b[0m \u001b[32m━━━━━━━━━━━━━━━━━━━━\u001b[0m\u001b[37m\u001b[0m \u001b[1m1s\u001b[0m 9ms/step - accuracy: 0.5025 - loss: 0.1684 - val_accuracy: 0.2767 - val_loss: 0.1749\n",
            "Epoch 4/25\n",
            "\u001b[1m106/106\u001b[0m \u001b[32m━━━━━━━━━━━━━━━━━━━━\u001b[0m\u001b[37m\u001b[0m \u001b[1m1s\u001b[0m 9ms/step - accuracy: 0.5114 - loss: 0.1681 - val_accuracy: 0.2793 - val_loss: 0.1748\n",
            "Epoch 5/25\n",
            "\u001b[1m106/106\u001b[0m \u001b[32m━━━━━━━━━━━━━━━━━━━━\u001b[0m\u001b[37m\u001b[0m \u001b[1m1s\u001b[0m 10ms/step - accuracy: 0.5173 - loss: 0.1679 - val_accuracy: 0.2818 - val_loss: 0.1748\n",
            "Epoch 6/25\n",
            "\u001b[1m106/106\u001b[0m \u001b[32m━━━━━━━━━━━━━━━━━━━━\u001b[0m\u001b[37m\u001b[0m \u001b[1m1s\u001b[0m 9ms/step - accuracy: 0.5205 - loss: 0.1678 - val_accuracy: 0.2815 - val_loss: 0.1747\n",
            "Epoch 7/25\n",
            "\u001b[1m106/106\u001b[0m \u001b[32m━━━━━━━━━━━━━━━━━━━━\u001b[0m\u001b[37m\u001b[0m \u001b[1m1s\u001b[0m 9ms/step - accuracy: 0.5225 - loss: 0.1677 - val_accuracy: 0.2807 - val_loss: 0.1748\n",
            "Epoch 8/25\n",
            "\u001b[1m106/106\u001b[0m \u001b[32m━━━━━━━━━━━━━━━━━━━━\u001b[0m\u001b[37m\u001b[0m \u001b[1m2s\u001b[0m 15ms/step - accuracy: 0.5242 - loss: 0.1677 - val_accuracy: 0.2800 - val_loss: 0.1748\n",
            "Epoch 9/25\n",
            "\u001b[1m106/106\u001b[0m \u001b[32m━━━━━━━━━━━━━━━━━━━━\u001b[0m\u001b[37m\u001b[0m \u001b[1m2s\u001b[0m 11ms/step - accuracy: 0.5262 - loss: 0.1676 - val_accuracy: 0.2798 - val_loss: 0.1748\n",
            "Epoch 10/25\n",
            "\u001b[1m106/106\u001b[0m \u001b[32m━━━━━━━━━━━━━━━━━━━━\u001b[0m\u001b[37m\u001b[0m \u001b[1m1s\u001b[0m 10ms/step - accuracy: 0.5274 - loss: 0.1675 - val_accuracy: 0.2815 - val_loss: 0.1747\n",
            "Epoch 10: early stopping\n",
            "\u001b[1m313/313\u001b[0m \u001b[32m━━━━━━━━━━━━━━━━━━━━\u001b[0m\u001b[37m\u001b[0m \u001b[1m1s\u001b[0m 1ms/step\n",
            "accuracy 0.2786\n",
            "macro_f1 0.18892722729742567\n",
            "Mean accuracy: 0.2778 +/- 0.0051\n"
          ]
        }
      ]
    },
    {
      "cell_type": "code",
      "execution_count": null,
      "metadata": {
        "id": "b26D_UnB0qzF"
      },
      "outputs": [],
      "source": []
    },
    {
      "cell_type": "code",
      "source": [
        "\n",
        "\n",
        "# from keras.callbacks import EarlyStopping\n",
        "# from sklearn import metrics\n",
        "\n",
        "# func_dict = {\n",
        "#     \"sparse_categorical_crossentropy\":\"sparse_categorical_crossentropy\",\n",
        "#     \"crossentropy_max_wrap\": c_mwrap_lossfn,\n",
        "#     \"lq_loss_wrap\": lq_loss_fn,\n",
        "#     \"symmetric_cross_entropy\": symloss_fn,\n",
        "#     \"crossentropy_reed_wrap\": crentr_loss_fn,\n",
        "#     \"noise_aware_loss\":noise_aware_loss\n",
        "\n",
        "# }\n",
        "\n",
        "# data_dict = []\n",
        "# for loss_func_name in func_dict.keys():\n",
        "#     lossfunction = func_dict[loss_func_name]\n",
        "#     model = create_model()\n",
        "#     model.compile(optimizer='adam',\n",
        "#                     loss=lossfunction,\n",
        "#                     metrics=['accuracy'])\n",
        "\n",
        "#     # Train the model\n",
        "#     #model.fit(x_train, y_train, epochs=5)\n",
        "\n",
        "#     train_res = model.fit(X_train_train,\n",
        "#                           y_train_train,\n",
        "#                           batch_size=512,\n",
        "#                           epochs=5,\n",
        "#                           verbose=True,\n",
        "#                           validation_data=(X_train_val,\n",
        "#                                           y_train_val),\n",
        "#                           callbacks=\n",
        "#                           [EarlyStopping(patience=4,mode='min',\n",
        "#                                         verbose=True)]\n",
        "#                           )\n",
        "\n",
        "#     # Evaluate the model\n",
        "#     #loss, accuracy = model.evaluate(x_test, y_test, verbose=0)\n",
        "#     #y_pred = model.predict(x_test)\n",
        "#     y_pred_probs = model.predict(x_test)  # Get predicted probabilities\n",
        "#     y_pred = np.argmax(y_pred_probs, axis=1)  # Convert probabilities to class labels\n",
        "\n",
        "\n",
        "\n",
        "#     acc = metrics.accuracy_score(y_test, y_pred)\n",
        "#     macro_averaged_f1 = metrics.f1_score(y_test, y_pred, average = 'macro')\n",
        "\n",
        "#     rec = {'lossfunc': loss_func_name, 'acc': acc, 'macro_f1':macro_averaged_f1 }\n",
        "#     data_dict.append(rec.copy())\n",
        "\n",
        "\n"
      ],
      "metadata": {
        "id": "xYyuJPpI3ZH4"
      },
      "execution_count": null,
      "outputs": []
    },
    {
      "cell_type": "code",
      "source": [
        "# import pandas as pd\n",
        "# res_df = pd.DataFrame(data_dict)\n",
        "# res_df"
      ],
      "metadata": {
        "id": "Zkq-7ojY5jVl"
      },
      "execution_count": null,
      "outputs": []
    },
    {
      "cell_type": "code",
      "source": [],
      "metadata": {
        "id": "MpfvuaJJ3gZW"
      },
      "execution_count": null,
      "outputs": []
    }
  ]
}