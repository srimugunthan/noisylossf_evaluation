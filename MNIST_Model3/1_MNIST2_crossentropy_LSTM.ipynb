{
  "nbformat": 4,
  "nbformat_minor": 0,
  "metadata": {
    "colab": {
      "provenance": []
    },
    "kernelspec": {
      "name": "python3",
      "display_name": "Python 3"
    },
    "language_info": {
      "name": "python"
    }
  },
  "cells": [
    {
      "cell_type": "code",
      "execution_count": 1,
      "metadata": {
        "id": "KYqnMseA3MSD"
      },
      "outputs": [],
      "source": [
        "\n",
        "\n",
        "import tensorflow as tf\n",
        "from tensorflow import keras\n",
        "import argparse\n"
      ]
    },
    {
      "cell_type": "code",
      "source": [
        "from google.colab import drive\n",
        "drive.mount('/content/drive')\n",
        "import os\n",
        "os.chdir('/content/drive/My Drive/Colab Notebooks/noisyloss/')\n",
        "\n",
        "\n"
      ],
      "metadata": {
        "colab": {
          "base_uri": "https://localhost:8080/"
        },
        "id": "8g6JO5QddrAL",
        "outputId": "b072d98c-923f-4bed-d8bc-511efdf00fad"
      },
      "execution_count": null,
      "outputs": [
        {
          "output_type": "stream",
          "name": "stdout",
          "text": [
            "Mounted at /content/drive\n"
          ]
        }
      ]
    },
    {
      "cell_type": "code",
      "source": [
        "import loss_functions"
      ],
      "metadata": {
        "id": "IsQw5W_DgGzu"
      },
      "execution_count": null,
      "outputs": []
    },
    {
      "cell_type": "code",
      "source": [
        "crentr_loss_fn = loss_functions.crossentropy_reed_wrap(0.3)"
      ],
      "metadata": {
        "id": "O44T-Q78gPnU"
      },
      "execution_count": null,
      "outputs": []
    },
    {
      "cell_type": "code",
      "source": [
        "# Example usage:\n",
        "alpha = 0.1\n",
        "beta = 1.0\n",
        "symloss_fn = loss_functions.symmetric_cross_entropy(alpha, beta)"
      ],
      "metadata": {
        "id": "MADbCFEUgfCT"
      },
      "execution_count": null,
      "outputs": []
    },
    {
      "cell_type": "code",
      "source": [
        "lq_loss_fn = loss_functions.lq_loss_wrap(0.3)"
      ],
      "metadata": {
        "id": "DiLWGDWo_pZT"
      },
      "execution_count": null,
      "outputs": []
    },
    {
      "cell_type": "code",
      "source": [
        "# from tensorflow.keras.utils import plot_model\n",
        "# from IPython.display import Image, display\n",
        "\n",
        "# # Assuming you have created your model using the create_model function\n",
        "# model = create_model()\n",
        "\n",
        "# # Generate the plot and get the image data\n",
        "# # We set to_file=None to prevent saving to a file and get bytes instead\n",
        "# plot_model(model, show_shapes=True,to_file=\"./model_arch.jpg\")\n"
      ],
      "metadata": {
        "id": "QLVKbtplzmal"
      },
      "execution_count": null,
      "outputs": []
    },
    {
      "cell_type": "code",
      "source": [
        "\n",
        "\n",
        "(x_train, y_train), (x_test, y_test) = keras.datasets.mnist.load_data()\n",
        "\n",
        "# Preprocess the data\n",
        "x_train = x_train.astype('float32') / 255.0\n",
        "x_test = x_test.astype('float32') / 255.0\n",
        "x_train = x_train.reshape(-1, 28, 28, 1)\n",
        "x_test = x_test.reshape(-1, 28, 28, 1)"
      ],
      "metadata": {
        "id": "DMY0MoAaTqcq",
        "colab": {
          "base_uri": "https://localhost:8080/"
        },
        "outputId": "f67eebef-ae41-46e9-d70a-50d6632d34bc"
      },
      "execution_count": 2,
      "outputs": [
        {
          "output_type": "stream",
          "name": "stdout",
          "text": [
            "Downloading data from https://storage.googleapis.com/tensorflow/tf-keras-datasets/mnist.npz\n",
            "\u001b[1m11490434/11490434\u001b[0m \u001b[32m━━━━━━━━━━━━━━━━━━━━\u001b[0m\u001b[37m\u001b[0m \u001b[1m0s\u001b[0m 0us/step\n"
          ]
        }
      ]
    },
    {
      "cell_type": "code",
      "source": [
        "img_rows, img_cols = x_train.shape[1], x_train.shape[2]\n",
        "print(img_rows,img_cols)"
      ],
      "metadata": {
        "colab": {
          "base_uri": "https://localhost:8080/"
        },
        "id": "DCASDlsd7MFS",
        "outputId": "096cfb57-aade-4712-c24c-989a4cd1675b"
      },
      "execution_count": 3,
      "outputs": [
        {
          "output_type": "stream",
          "name": "stdout",
          "text": [
            "28 28\n"
          ]
        }
      ]
    },
    {
      "cell_type": "code",
      "source": [
        "\n",
        "\n",
        "# --- 2. Build the RNN Model (using LSTM) ---\n",
        "def create_model(input_shape=(img_rows, img_cols), num_classes=10):\n",
        "    model = keras.Sequential([\n",
        "        # Input layer: (timesteps, input_dim) -> (28, 28) for MNIST\n",
        "        # The LSTM layer processes the sequence of rows.\n",
        "        # It returns the output for the LAST timestep, which summarizes the sequence.\n",
        "        keras.layers.LSTM(128, input_shape=input_shape), # 128 LSTM units\n",
        "\n",
        "        keras.layers.Dropout(0.3), # Dropout for regularization\n",
        "\n",
        "        # Output Layer\n",
        "        keras.layers.Dense(num_classes, activation='softmax') # 10 neurons for 10 classes\n",
        "    ])\n",
        "    return model"
      ],
      "metadata": {
        "id": "STf3X6Rh3VGy"
      },
      "execution_count": 4,
      "outputs": []
    },
    {
      "cell_type": "code",
      "source": [
        "# prompt: give code to print image of the keras model\n",
        "\n",
        "from tensorflow.keras.utils import plot_model\n",
        "from IPython.display import Image, display\n",
        "\n",
        "# Assuming you have created your model using the create_model function\n",
        "model = create_model()\n",
        "\n",
        "# Generate the plot and get the image data\n",
        "# We set to_file=None to prevent saving to a file and get bytes instead\n",
        "plot_model(model, show_shapes=True,to_file=\"./model_arch.jpg\")\n",
        "display(Image('model_arch.jpg'))"
      ],
      "metadata": {
        "colab": {
          "base_uri": "https://localhost:8080/",
          "height": 995
        },
        "id": "W2yhG1vjeZsS",
        "outputId": "08206cba-a951-437b-8095-cf3cfb0485c3"
      },
      "execution_count": 5,
      "outputs": [
        {
          "output_type": "stream",
          "name": "stderr",
          "text": [
            "/usr/local/lib/python3.11/dist-packages/keras/src/layers/rnn/rnn.py:200: UserWarning: Do not pass an `input_shape`/`input_dim` argument to a layer. When using Sequential models, prefer using an `Input(shape)` object as the first layer in the model instead.\n",
            "  super().__init__(**kwargs)\n"
          ]
        },
        {
          "output_type": "display_data",
          "data": {
            "image/jpeg": "[encoded data removed]",
            "text/plain": [
              "<IPython.core.display.Image object>"
            ]
          },
          "metadata": {}
        }
      ]
    },
    {
      "cell_type": "markdown",
      "metadata": {
        "id": "VlbZkqTr0qzE"
      },
      "source": [
        "## noisy labels"
      ]
    },
    {
      "cell_type": "code",
      "execution_count": 6,
      "metadata": {
        "collapsed": true,
        "id": "tI0TIgK60qzE"
      },
      "outputs": [],
      "source": [
        "import numpy as np\n",
        "NOISE_LEVEL=0  # what part of training labels are permuted\n",
        "perm = np.array([7, 9, 0, 4, 2, 1, 3, 5, 6, 8])  # noise permutation (from Reed)"
      ]
    },
    {
      "cell_type": "code",
      "execution_count": 7,
      "metadata": {
        "collapsed": true,
        "id": "JqS33nVU0qzE"
      },
      "outputs": [],
      "source": [
        "noise = perm[y_train]"
      ]
    },
    {
      "cell_type": "code",
      "source": [
        "# replace some of the training labels with permuted (noise) labels.\n",
        "# make sure each categories receive an equal amount of noise\n",
        "\n",
        "\n",
        "from sklearn.model_selection import StratifiedShuffleSplit\n",
        "if NOISE_LEVEL > 0:\n",
        "  _, noise_idx = next(iter(StratifiedShuffleSplit(n_splits=1,\n",
        "                                                  test_size=NOISE_LEVEL,\n",
        "                                                  random_state=42).split(x_train,y_train)))\n",
        "  y_train_noise = y_train.copy()\n",
        "  y_train_noise[noise_idx] = noise[noise_idx]\n",
        "  # break the training set to 10% validation which we will use for early stopping.\n",
        "  train_idx, val_idx = next(iter(\n",
        "          StratifiedShuffleSplit(n_splits=1, test_size=0.1,\n",
        "                                random_state=42).split(x_train, y_train_noise)))\n",
        "  X_train_train = x_train[train_idx]\n",
        "  y_train_correct = y_train[train_idx]\n",
        "  y_train_train = y_train_noise[train_idx]\n",
        "  X_train_val = x_train[val_idx]\n",
        "  y_train_val = y_train_noise[val_idx]\n",
        "  y_train_val_correct = y_train[val_idx]\n",
        "else:\n",
        "  train_idx, val_idx = next(iter(\n",
        "        StratifiedShuffleSplit(n_splits=1, test_size=0.1,\n",
        "                               random_state=42).split(x_train, y_train)))\n",
        "  X_train_train = x_train[train_idx]\n",
        "  y_train_train = y_train[train_idx]\n",
        "  y_train_correct = y_train[train_idx]\n",
        "  X_train_val = x_train[val_idx]\n",
        "  y_train_val = y_train[val_idx]\n",
        "  y_train_val_correct = y_train[val_idx]\n",
        "\n",
        "\n",
        "\n"
      ],
      "metadata": {
        "id": "OcqdhPMead1Z"
      },
      "execution_count": 8,
      "outputs": []
    },
    {
      "cell_type": "code",
      "source": [
        "# my_agce_loss = loss_functions.agce_loss_fn(num_classes=10, a=4, q=0.21, scale=1.0)"
      ],
      "metadata": {
        "id": "rFc1r6TOexm0"
      },
      "execution_count": 9,
      "outputs": []
    },
    {
      "cell_type": "code",
      "source": [
        "\n",
        "\n",
        "from keras.callbacks import EarlyStopping\n",
        "from sklearn import metrics\n",
        "\n",
        "model = create_model()\n",
        "model.compile(optimizer='adam',\n",
        "                    loss=\"sparse_categorical_crossentropy\",\n",
        "                    metrics=['accuracy'])\n",
        "\n",
        "history = model.fit(X_train_train,\n",
        "                      y_train_train,\n",
        "                      batch_size=512,\n",
        "                      epochs=25,\n",
        "                      verbose=True,\n",
        "                      validation_data=(X_train_val,\n",
        "                                      y_train_val_correct),\n",
        "                      callbacks=\n",
        "                      [EarlyStopping(patience=4,mode='min',\n",
        "                                    verbose=True)]\n",
        "                      )\n",
        "\n",
        "# Evaluate the model\n",
        "#loss, accuracy = model.evaluate(x_test, y_test, verbose=0)\n",
        "#y_pred = model.predict(x_test)\n",
        "y_pred_probs = model.predict(x_test)  # Get predicted probabilities\n",
        "y_pred = np.argmax(y_pred_probs, axis=1)  # Convert probabilities to class labels\n",
        "\n",
        "\n",
        "\n",
        "acc = metrics.accuracy_score(y_test, y_pred)\n",
        "macro_averaged_f1 = metrics.f1_score(y_test, y_pred, average = 'macro')\n",
        "print(\"accuracy\",acc)\n",
        "print(\"macro_f1\",macro_averaged_f1)\n"
      ],
      "metadata": {
        "colab": {
          "base_uri": "https://localhost:8080/"
        },
        "id": "rHNT7gLpdH-D",
        "outputId": "f2513ec0-56c3-474d-9508-5ae12a0ec4c3"
      },
      "execution_count": 10,
      "outputs": [
        {
          "output_type": "stream",
          "name": "stderr",
          "text": [
            "/usr/local/lib/python3.11/dist-packages/keras/src/layers/rnn/rnn.py:200: UserWarning: Do not pass an `input_shape`/`input_dim` argument to a layer. When using Sequential models, prefer using an `Input(shape)` object as the first layer in the model instead.\n",
            "  super().__init__(**kwargs)\n"
          ]
        },
        {
          "output_type": "stream",
          "name": "stdout",
          "text": [
            "Epoch 1/25\n",
            "\u001b[1m106/106\u001b[0m \u001b[32m━━━━━━━━━━━━━━━━━━━━\u001b[0m\u001b[37m\u001b[0m \u001b[1m24s\u001b[0m 197ms/step - accuracy: 0.4523 - loss: 1.6174 - val_accuracy: 0.8832 - val_loss: 0.3879\n",
            "Epoch 2/25\n",
            "\u001b[1m106/106\u001b[0m \u001b[32m━━━━━━━━━━━━━━━━━━━━\u001b[0m\u001b[37m\u001b[0m \u001b[1m23s\u001b[0m 216ms/step - accuracy: 0.8902 - loss: 0.3617 - val_accuracy: 0.9237 - val_loss: 0.2394\n",
            "Epoch 3/25\n",
            "\u001b[1m106/106\u001b[0m \u001b[32m━━━━━━━━━━━━━━━━━━━━\u001b[0m\u001b[37m\u001b[0m \u001b[1m40s\u001b[0m 209ms/step - accuracy: 0.9346 - loss: 0.2163 - val_accuracy: 0.9408 - val_loss: 0.1893\n",
            "Epoch 4/25\n",
            "\u001b[1m106/106\u001b[0m \u001b[32m━━━━━━━━━━━━━━━━━━━━\u001b[0m\u001b[37m\u001b[0m \u001b[1m41s\u001b[0m 213ms/step - accuracy: 0.9510 - loss: 0.1613 - val_accuracy: 0.9563 - val_loss: 0.1567\n",
            "Epoch 5/25\n",
            "\u001b[1m106/106\u001b[0m \u001b[32m━━━━━━━━━━━━━━━━━━━━\u001b[0m\u001b[37m\u001b[0m \u001b[1m23s\u001b[0m 214ms/step - accuracy: 0.9604 - loss: 0.1338 - val_accuracy: 0.9668 - val_loss: 0.1167\n",
            "Epoch 6/25\n",
            "\u001b[1m106/106\u001b[0m \u001b[32m━━━━━━━━━━━━━━━━━━━━\u001b[0m\u001b[37m\u001b[0m \u001b[1m41s\u001b[0m 214ms/step - accuracy: 0.9674 - loss: 0.1076 - val_accuracy: 0.9678 - val_loss: 0.1101\n",
            "Epoch 7/25\n",
            "\u001b[1m106/106\u001b[0m \u001b[32m━━━━━━━━━━━━━━━━━━━━\u001b[0m\u001b[37m\u001b[0m \u001b[1m41s\u001b[0m 213ms/step - accuracy: 0.9713 - loss: 0.0962 - val_accuracy: 0.9695 - val_loss: 0.1049\n",
            "Epoch 8/25\n",
            "\u001b[1m106/106\u001b[0m \u001b[32m━━━━━━━━━━━━━━━━━━━━\u001b[0m\u001b[37m\u001b[0m \u001b[1m22s\u001b[0m 209ms/step - accuracy: 0.9756 - loss: 0.0838 - val_accuracy: 0.9732 - val_loss: 0.0955\n",
            "Epoch 9/25\n",
            "\u001b[1m106/106\u001b[0m \u001b[32m━━━━━━━━━━━━━━━━━━━━\u001b[0m\u001b[37m\u001b[0m \u001b[1m22s\u001b[0m 212ms/step - accuracy: 0.9780 - loss: 0.0696 - val_accuracy: 0.9733 - val_loss: 0.0940\n",
            "Epoch 10/25\n",
            "\u001b[1m106/106\u001b[0m \u001b[32m━━━━━━━━━━━━━━━━━━━━\u001b[0m\u001b[37m\u001b[0m \u001b[1m41s\u001b[0m 211ms/step - accuracy: 0.9817 - loss: 0.0621 - val_accuracy: 0.9725 - val_loss: 0.0935\n",
            "Epoch 11/25\n",
            "\u001b[1m106/106\u001b[0m \u001b[32m━━━━━━━━━━━━━━━━━━━━\u001b[0m\u001b[37m\u001b[0m \u001b[1m40s\u001b[0m 204ms/step - accuracy: 0.9817 - loss: 0.0605 - val_accuracy: 0.9750 - val_loss: 0.0812\n",
            "Epoch 12/25\n",
            "\u001b[1m106/106\u001b[0m \u001b[32m━━━━━━━━━━━━━━━━━━━━\u001b[0m\u001b[37m\u001b[0m \u001b[1m42s\u001b[0m 212ms/step - accuracy: 0.9832 - loss: 0.0540 - val_accuracy: 0.9772 - val_loss: 0.0784\n",
            "Epoch 13/25\n",
            "\u001b[1m106/106\u001b[0m \u001b[32m━━━━━━━━━━━━━━━━━━━━\u001b[0m\u001b[37m\u001b[0m \u001b[1m41s\u001b[0m 216ms/step - accuracy: 0.9852 - loss: 0.0495 - val_accuracy: 0.9755 - val_loss: 0.0843\n",
            "Epoch 14/25\n",
            "\u001b[1m106/106\u001b[0m \u001b[32m━━━━━━━━━━━━━━━━━━━━\u001b[0m\u001b[37m\u001b[0m \u001b[1m40s\u001b[0m 208ms/step - accuracy: 0.9851 - loss: 0.0467 - val_accuracy: 0.9815 - val_loss: 0.0723\n",
            "Epoch 15/25\n",
            "\u001b[1m106/106\u001b[0m \u001b[32m━━━━━━━━━━━━━━━━━━━━\u001b[0m\u001b[37m\u001b[0m \u001b[1m41s\u001b[0m 212ms/step - accuracy: 0.9876 - loss: 0.0395 - val_accuracy: 0.9783 - val_loss: 0.0766\n",
            "Epoch 16/25\n",
            "\u001b[1m106/106\u001b[0m \u001b[32m━━━━━━━━━━━━━━━━━━━━\u001b[0m\u001b[37m\u001b[0m \u001b[1m41s\u001b[0m 213ms/step - accuracy: 0.9872 - loss: 0.0402 - val_accuracy: 0.9823 - val_loss: 0.0694\n",
            "Epoch 17/25\n",
            "\u001b[1m106/106\u001b[0m \u001b[32m━━━━━━━━━━━━━━━━━━━━\u001b[0m\u001b[37m\u001b[0m \u001b[1m23s\u001b[0m 218ms/step - accuracy: 0.9896 - loss: 0.0334 - val_accuracy: 0.9817 - val_loss: 0.0696\n",
            "Epoch 18/25\n",
            "\u001b[1m106/106\u001b[0m \u001b[32m━━━━━━━━━━━━━━━━━━━━\u001b[0m\u001b[37m\u001b[0m \u001b[1m22s\u001b[0m 204ms/step - accuracy: 0.9898 - loss: 0.0335 - val_accuracy: 0.9818 - val_loss: 0.0653\n",
            "Epoch 19/25\n",
            "\u001b[1m106/106\u001b[0m \u001b[32m━━━━━━━━━━━━━━━━━━━━\u001b[0m\u001b[37m\u001b[0m \u001b[1m42s\u001b[0m 214ms/step - accuracy: 0.9892 - loss: 0.0328 - val_accuracy: 0.9808 - val_loss: 0.0730\n",
            "Epoch 20/25\n",
            "\u001b[1m106/106\u001b[0m \u001b[32m━━━━━━━━━━━━━━━━━━━━\u001b[0m\u001b[37m\u001b[0m \u001b[1m22s\u001b[0m 206ms/step - accuracy: 0.9905 - loss: 0.0295 - val_accuracy: 0.9842 - val_loss: 0.0666\n",
            "Epoch 21/25\n",
            "\u001b[1m106/106\u001b[0m \u001b[32m━━━━━━━━━━━━━━━━━━━━\u001b[0m\u001b[37m\u001b[0m \u001b[1m42s\u001b[0m 216ms/step - accuracy: 0.9926 - loss: 0.0246 - val_accuracy: 0.9823 - val_loss: 0.0707\n",
            "Epoch 22/25\n",
            "\u001b[1m106/106\u001b[0m \u001b[32m━━━━━━━━━━━━━━━━━━━━\u001b[0m\u001b[37m\u001b[0m \u001b[1m40s\u001b[0m 209ms/step - accuracy: 0.9929 - loss: 0.0211 - val_accuracy: 0.9847 - val_loss: 0.0612\n",
            "Epoch 23/25\n",
            "\u001b[1m106/106\u001b[0m \u001b[32m━━━━━━━━━━━━━━━━━━━━\u001b[0m\u001b[37m\u001b[0m \u001b[1m23s\u001b[0m 216ms/step - accuracy: 0.9936 - loss: 0.0208 - val_accuracy: 0.9833 - val_loss: 0.0671\n",
            "Epoch 24/25\n",
            "\u001b[1m106/106\u001b[0m \u001b[32m━━━━━━━━━━━━━━━━━━━━\u001b[0m\u001b[37m\u001b[0m \u001b[1m22s\u001b[0m 211ms/step - accuracy: 0.9945 - loss: 0.0189 - val_accuracy: 0.9833 - val_loss: 0.0646\n",
            "Epoch 25/25\n",
            "\u001b[1m106/106\u001b[0m \u001b[32m━━━━━━━━━━━━━━━━━━━━\u001b[0m\u001b[37m\u001b[0m \u001b[1m41s\u001b[0m 215ms/step - accuracy: 0.9916 - loss: 0.0246 - val_accuracy: 0.9825 - val_loss: 0.0702\n",
            "\u001b[1m313/313\u001b[0m \u001b[32m━━━━━━━━━━━━━━━━━━━━\u001b[0m\u001b[37m\u001b[0m \u001b[1m4s\u001b[0m 13ms/step\n",
            "accuracy 0.9827\n",
            "macro_f1 0.9825276876157678\n"
          ]
        }
      ]
    },
    {
      "cell_type": "code",
      "source": [
        "\n",
        "import matplotlib.pyplot as plt\n",
        "\n",
        "plt.figure(figsize=(12, 5))\n",
        "\n",
        "# Plot training & validation accuracy values\n",
        "plt.subplot(1, 2, 1)\n",
        "plt.plot(history.history['accuracy'])\n",
        "plt.plot(history.history['val_accuracy'])\n",
        "plt.title('Model Accuracy')\n",
        "plt.ylabel('Accuracy')\n",
        "plt.xlabel('Epoch')\n",
        "plt.legend(['Train', 'Validation'], loc='upper left')\n",
        "\n",
        "# Plot training & validation loss values\n",
        "plt.subplot(1, 2, 2)\n",
        "plt.plot(history.history['loss'])\n",
        "plt.plot(history.history['val_loss'])\n",
        "plt.title('Model Loss')\n",
        "plt.ylabel('Loss')\n",
        "plt.xlabel('Epoch')\n",
        "plt.legend(['Train', 'Validation'], loc='upper left')\n",
        "\n",
        "plt.tight_layout()\n",
        "plt.show()"
      ],
      "metadata": {
        "id": "APU5RpI3cj7z"
      },
      "execution_count": null,
      "outputs": []
    },
    {
      "cell_type": "code",
      "source": [
        "print(NOISE_LEVEL)"
      ],
      "metadata": {
        "colab": {
          "base_uri": "https://localhost:8080/"
        },
        "id": "NQFmz_rZ2lV8",
        "outputId": "44ee4587-b31e-49a2-b4ec-4f5258604ab3"
      },
      "execution_count": 12,
      "outputs": [
        {
          "output_type": "stream",
          "name": "stdout",
          "text": [
            "0\n"
          ]
        }
      ]
    },
    {
      "cell_type": "code",
      "source": [
        "from sklearn.model_selection import StratifiedShuffleSplit\n",
        "\n",
        "from keras.callbacks import EarlyStopping\n",
        "from sklearn import metrics\n",
        "import numpy as np\n",
        "\n",
        "seeds = [42, 123, 456]\n",
        "all_results = []\n",
        "\n",
        "for seed in seeds:\n",
        "    print(f\"Running with seed: {seed}\")\n",
        "    tf.random.set_seed(seed)\n",
        "    np.random.seed(seed) # Set numpy seed as well\n",
        "\n",
        "\n",
        "    if NOISE_LEVEL > 0:\n",
        "      _, noise_idx = next(iter(StratifiedShuffleSplit(n_splits=1,\n",
        "                                                      test_size=NOISE_LEVEL,\n",
        "                                                      random_state=seed).split(x_train,y_train)))\n",
        "      y_train_noise = y_train.copy()\n",
        "      y_train_noise[noise_idx] = noise[noise_idx]\n",
        "      # break the training set to 10% validation which we will use for early stopping.\n",
        "      train_idx, val_idx = next(iter(\n",
        "              StratifiedShuffleSplit(n_splits=1, test_size=0.1,\n",
        "                                    random_state=seed).split(x_train, y_train_noise)))\n",
        "      X_train_train = x_train[train_idx]\n",
        "      y_train_correct = y_train[train_idx]\n",
        "      y_train_train = y_train_noise[train_idx]\n",
        "      X_train_val = x_train[val_idx]\n",
        "      y_train_val = y_train_noise[val_idx]\n",
        "      y_train_val_correct = y_train[val_idx]\n",
        "    else:\n",
        "      train_idx, val_idx = next(iter(\n",
        "            StratifiedShuffleSplit(n_splits=1, test_size=0.1,\n",
        "                                  random_state=seed).split(x_train, y_train)))\n",
        "      X_train_train = x_train[train_idx]\n",
        "      y_train_train = y_train[train_idx]\n",
        "      y_train_correct = y_train[train_idx]\n",
        "      X_train_val = x_train[val_idx]\n",
        "      y_train_val = y_train[val_idx]\n",
        "      y_train_val_correct = y_train[val_idx]\n",
        "\n",
        "    model = create_model()\n",
        "    model.compile(optimizer='adam',\n",
        "                        loss=\"sparse_categorical_crossentropy\",\n",
        "                        metrics=['accuracy'])\n",
        "\n",
        "    train_res = model.fit(X_train_train,\n",
        "                          y_train_train,\n",
        "                          batch_size=512,\n",
        "                          epochs=25,\n",
        "                          verbose=True,\n",
        "                          validation_data=(X_train_val,\n",
        "                                          y_train_val_correct),\n",
        "                          callbacks=\n",
        "                          [EarlyStopping(patience=4,mode='min',\n",
        "                                        verbose=True)]\n",
        "                          )\n",
        "\n",
        "    # Evaluate the model\n",
        "    #loss, accuracy = model.evaluate(x_test, y_test, verbose=0)\n",
        "    #y_pred = model.predict(x_test)\n",
        "    y_pred_probs = model.predict(x_test)  # Get predicted probabilities\n",
        "    y_pred = np.argmax(y_pred_probs, axis=1)  # Convert probabilities to class labels\n",
        "\n",
        "    acc = metrics.accuracy_score(y_test, y_pred)\n",
        "    macro_averaged_f1 = metrics.f1_score(y_test, y_pred, average = 'macro')\n",
        "    all_results.append(acc)\n",
        "    print(\"accuracy\",acc)\n",
        "    print(\"macro_f1\",macro_averaged_f1)\n",
        "\n",
        "\n",
        "mean_accuracy = np.mean(all_results)\n",
        "std_accuracy = np.std(all_results)\n",
        "\n",
        "print(f\"Mean accuracy: {mean_accuracy:.4f} +/- {std_accuracy:.4f}\")"
      ],
      "metadata": {
        "colab": {
          "base_uri": "https://localhost:8080/"
        },
        "id": "l7vxFawBuY6c",
        "outputId": "3e1bfd61-7c3f-448d-8116-4344e6c30c82"
      },
      "execution_count": null,
      "outputs": [
        {
          "output_type": "stream",
          "name": "stdout",
          "text": [
            "Running with seed: 42\n"
          ]
        },
        {
          "output_type": "stream",
          "name": "stderr",
          "text": [
            "/usr/local/lib/python3.11/dist-packages/keras/src/layers/rnn/rnn.py:200: UserWarning: Do not pass an `input_shape`/`input_dim` argument to a layer. When using Sequential models, prefer using an `Input(shape)` object as the first layer in the model instead.\n",
            "  super().__init__(**kwargs)\n"
          ]
        },
        {
          "output_type": "stream",
          "name": "stdout",
          "text": [
            "Epoch 1/25\n",
            "\u001b[1m106/106\u001b[0m \u001b[32m━━━━━━━━━━━━━━━━━━━━\u001b[0m\u001b[37m\u001b[0m \u001b[1m33s\u001b[0m 292ms/step - accuracy: 0.4286 - loss: 1.6646 - val_accuracy: 0.8500 - val_loss: 0.4768\n",
            "Epoch 2/25\n",
            "\u001b[1m106/106\u001b[0m \u001b[32m━━━━━━━━━━━━━━━━━━━━\u001b[0m\u001b[37m\u001b[0m \u001b[1m32s\u001b[0m 210ms/step - accuracy: 0.8722 - loss: 0.4127 - val_accuracy: 0.9257 - val_loss: 0.2356\n",
            "Epoch 3/25\n"
          ]
        }
      ]
    },
    {
      "cell_type": "code",
      "execution_count": null,
      "metadata": {
        "id": "b26D_UnB0qzF"
      },
      "outputs": [],
      "source": []
    },
    {
      "cell_type": "code",
      "source": [
        "\n",
        "\n",
        "# from keras.callbacks import EarlyStopping\n",
        "# from sklearn import metrics\n",
        "\n",
        "# func_dict = {\n",
        "#     \"sparse_categorical_crossentropy\":\"sparse_categorical_crossentropy\",\n",
        "#     \"crossentropy_max_wrap\": c_mwrap_lossfn,\n",
        "#     \"lq_loss_wrap\": lq_loss_fn,\n",
        "#     \"symmetric_cross_entropy\": symloss_fn,\n",
        "#     \"crossentropy_reed_wrap\": crentr_loss_fn,\n",
        "#     \"noise_aware_loss\":noise_aware_loss\n",
        "\n",
        "# }\n",
        "\n",
        "# data_dict = []\n",
        "# for loss_func_name in func_dict.keys():\n",
        "#     lossfunction = func_dict[loss_func_name]\n",
        "#     model = create_model()\n",
        "#     model.compile(optimizer='adam',\n",
        "#                     loss=lossfunction,\n",
        "#                     metrics=['accuracy'])\n",
        "\n",
        "#     # Train the model\n",
        "#     #model.fit(x_train, y_train, epochs=5)\n",
        "\n",
        "#     train_res = model.fit(X_train_train,\n",
        "#                           y_train_train,\n",
        "#                           batch_size=512,\n",
        "#                           epochs=5,\n",
        "#                           verbose=True,\n",
        "#                           validation_data=(X_train_val,\n",
        "#                                           y_train_val),\n",
        "#                           callbacks=\n",
        "#                           [EarlyStopping(patience=4,mode='min',\n",
        "#                                         verbose=True)]\n",
        "#                           )\n",
        "\n",
        "#     # Evaluate the model\n",
        "#     #loss, accuracy = model.evaluate(x_test, y_test, verbose=0)\n",
        "#     #y_pred = model.predict(x_test)\n",
        "#     y_pred_probs = model.predict(x_test)  # Get predicted probabilities\n",
        "#     y_pred = np.argmax(y_pred_probs, axis=1)  # Convert probabilities to class labels\n",
        "\n",
        "\n",
        "\n",
        "#     acc = metrics.accuracy_score(y_test, y_pred)\n",
        "#     macro_averaged_f1 = metrics.f1_score(y_test, y_pred, average = 'macro')\n",
        "\n",
        "#     rec = {'lossfunc': loss_func_name, 'acc': acc, 'macro_f1':macro_averaged_f1 }\n",
        "#     data_dict.append(rec.copy())\n",
        "\n",
        "\n"
      ],
      "metadata": {
        "id": "xYyuJPpI3ZH4"
      },
      "execution_count": null,
      "outputs": []
    },
    {
      "cell_type": "code",
      "source": [
        "# import pandas as pd\n",
        "# res_df = pd.DataFrame(data_dict)\n",
        "# res_df"
      ],
      "metadata": {
        "id": "Zkq-7ojY5jVl"
      },
      "execution_count": null,
      "outputs": []
    },
    {
      "cell_type": "code",
      "source": [],
      "metadata": {
        "id": "MpfvuaJJ3gZW"
      },
      "execution_count": null,
      "outputs": []
    }
  ]
}