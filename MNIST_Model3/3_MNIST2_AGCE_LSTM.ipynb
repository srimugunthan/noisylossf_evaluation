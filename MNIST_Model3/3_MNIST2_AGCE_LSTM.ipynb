{
  "nbformat": 4,
  "nbformat_minor": 0,
  "metadata": {
    "colab": {
      "provenance": []
    },
    "kernelspec": {
      "name": "python3",
      "display_name": "Python 3"
    },
    "language_info": {
      "name": "python"
    }
  },
  "cells": [
    {
      "cell_type": "code",
      "execution_count": 1,
      "metadata": {
        "id": "KYqnMseA3MSD"
      },
      "outputs": [],
      "source": [
        "\n",
        "\n",
        "import tensorflow as tf\n",
        "from tensorflow import keras\n",
        "import argparse\n"
      ]
    },
    {
      "cell_type": "code",
      "source": [
        "from google.colab import drive\n",
        "drive.mount('/content/drive')\n",
        "import os\n",
        "os.chdir('/content/drive/My Drive/Colab Notebooks/noisyloss/')\n",
        "\n",
        "\n"
      ],
      "metadata": {
        "colab": {
          "base_uri": "https://localhost:8080/"
        },
        "id": "8g6JO5QddrAL",
        "outputId": "61155824-e46f-41b7-8311-f93bb1c71815"
      },
      "execution_count": null,
      "outputs": [
        {
          "output_type": "stream",
          "name": "stdout",
          "text": [
            "Mounted at /content/drive\n"
          ]
        }
      ]
    },
    {
      "cell_type": "code",
      "source": [
        "import loss_functions"
      ],
      "metadata": {
        "id": "IsQw5W_DgGzu"
      },
      "execution_count": null,
      "outputs": []
    },
    {
      "cell_type": "code",
      "source": [
        "my_agce_loss = loss_functions.agce_loss_fn(num_classes=10, a=4, q=0.21, scale=1.0)"
      ],
      "metadata": {
        "id": "KcFJNfzilNk_"
      },
      "execution_count": null,
      "outputs": []
    },
    {
      "cell_type": "code",
      "source": [
        "crentr_loss_fn = loss_functions.crossentropy_reed_wrap(0.3)"
      ],
      "metadata": {
        "id": "O44T-Q78gPnU"
      },
      "execution_count": null,
      "outputs": []
    },
    {
      "cell_type": "code",
      "source": [
        "# Example usage:\n",
        "alpha = 0.1\n",
        "beta = 1.0\n",
        "symloss_fn = loss_functions.symmetric_cross_entropy(alpha, beta)"
      ],
      "metadata": {
        "id": "MADbCFEUgfCT"
      },
      "execution_count": null,
      "outputs": []
    },
    {
      "cell_type": "code",
      "source": [
        "lq_loss_fn = loss_functions.lq_loss_wrap(0.3)"
      ],
      "metadata": {
        "id": "DiLWGDWo_pZT"
      },
      "execution_count": null,
      "outputs": []
    },
    {
      "cell_type": "code",
      "source": [
        "mae_loss_multi_class = loss_functions.mae_loss_multi_class"
      ],
      "metadata": {
        "id": "-NlduSejJJhf"
      },
      "execution_count": null,
      "outputs": []
    },
    {
      "cell_type": "code",
      "source": [
        "# from tensorflow.keras.utils import plot_model\n",
        "# from IPython.display import Image, display\n",
        "\n",
        "# # Assuming you have created your model using the create_model function\n",
        "# model = create_model()\n",
        "\n",
        "# # Generate the plot and get the image data\n",
        "# # We set to_file=None to prevent saving to a file and get bytes instead\n",
        "# plot_model(model, show_shapes=True,to_file=\"./model_arch.jpg\")\n"
      ],
      "metadata": {
        "id": "QLVKbtplzmal"
      },
      "execution_count": null,
      "outputs": []
    },
    {
      "cell_type": "code",
      "source": [
        "\n",
        "\n",
        "(x_train, y_train), (x_test, y_test) = keras.datasets.mnist.load_data()\n",
        "\n",
        "# Preprocess the data\n",
        "x_train = x_train.astype('float32') / 255.0\n",
        "x_test = x_test.astype('float32') / 255.0\n",
        "x_train = x_train.reshape(-1, 28, 28, 1)\n",
        "x_test = x_test.reshape(-1, 28, 28, 1)"
      ],
      "metadata": {
        "id": "DMY0MoAaTqcq"
      },
      "execution_count": null,
      "outputs": []
    },
    {
      "cell_type": "code",
      "source": [
        "img_rows, img_cols = x_train.shape[1], x_train.shape[2]\n",
        "print(img_rows,img_cols)"
      ],
      "metadata": {
        "id": "6gT0OIsQdqZh"
      },
      "execution_count": null,
      "outputs": []
    },
    {
      "cell_type": "code",
      "source": [
        "\n",
        "\n",
        "# --- 2. Build the RNN Model (using LSTM) ---\n",
        "def create_model(input_shape=(img_rows, img_cols), num_classes=10):\n",
        "    model = keras.Sequential([\n",
        "        # Input layer: (timesteps, input_dim) -> (28, 28) for MNIST\n",
        "        # The LSTM layer processes the sequence of rows.\n",
        "        # It returns the output for the LAST timestep, which summarizes the sequence.\n",
        "        keras.layers.LSTM(128, input_shape=input_shape), # 128 LSTM units\n",
        "\n",
        "        keras.layers.Dropout(0.3), # Dropout for regularization\n",
        "\n",
        "        # Output Layer\n",
        "        keras.layers.Dense(num_classes, activation='softmax') # 10 neurons for 10 classes\n",
        "    ])\n",
        "    return model"
      ],
      "metadata": {
        "id": "STf3X6Rh3VGy"
      },
      "execution_count": null,
      "outputs": []
    },
    {
      "cell_type": "markdown",
      "metadata": {
        "id": "VlbZkqTr0qzE"
      },
      "source": [
        "## noisy labels"
      ]
    },
    {
      "cell_type": "code",
      "execution_count": null,
      "metadata": {
        "collapsed": true,
        "id": "tI0TIgK60qzE"
      },
      "outputs": [],
      "source": [
        "import numpy as np\n",
        "NOISE_LEVEL=0.6  # what part of training labels are permuted\n",
        "perm = np.array([7, 9, 0, 4, 2, 1, 3, 5, 6, 8])  # noise permutation (from Reed)"
      ]
    },
    {
      "cell_type": "code",
      "execution_count": null,
      "metadata": {
        "collapsed": true,
        "id": "JqS33nVU0qzE"
      },
      "outputs": [],
      "source": [
        "noise = perm[y_train]"
      ]
    },
    {
      "cell_type": "code",
      "source": [
        "# replace some of the training labels with permuted (noise) labels.\n",
        "# make sure each categories receive an equal amount of noise\n",
        "\n",
        "\n",
        "from sklearn.model_selection import StratifiedShuffleSplit\n",
        "if NOISE_LEVEL > 0:\n",
        "  _, noise_idx = next(iter(StratifiedShuffleSplit(n_splits=1,\n",
        "                                                  test_size=NOISE_LEVEL,\n",
        "                                                  random_state=42).split(x_train,y_train)))\n",
        "  y_train_noise = y_train.copy()\n",
        "  y_train_noise[noise_idx] = noise[noise_idx]\n",
        "  # break the training set to 10% validation which we will use for early stopping.\n",
        "  train_idx, val_idx = next(iter(\n",
        "          StratifiedShuffleSplit(n_splits=1, test_size=0.1,\n",
        "                                random_state=42).split(x_train, y_train_noise)))\n",
        "  X_train_train = x_train[train_idx]\n",
        "  y_train_correct = y_train[train_idx]\n",
        "  y_train_train = y_train_noise[train_idx]\n",
        "  X_train_val = x_train[val_idx]\n",
        "  y_train_val = y_train_noise[val_idx]\n",
        "  y_train_val_correct = y_train[val_idx]\n",
        "else:\n",
        "  train_idx, val_idx = next(iter(\n",
        "        StratifiedShuffleSplit(n_splits=1, test_size=0.1,\n",
        "                               random_state=42).split(x_train, y_train)))\n",
        "  X_train_train = x_train[train_idx]\n",
        "  y_train_train = y_train[train_idx]\n",
        "  y_train_correct = y_train[train_idx]\n",
        "  X_train_val = x_train[val_idx]\n",
        "  y_train_val = y_train[val_idx]\n",
        "  y_train_val_correct = y_train[val_idx]\n",
        "\n",
        "\n",
        "\n"
      ],
      "metadata": {
        "id": "OcqdhPMead1Z"
      },
      "execution_count": null,
      "outputs": []
    },
    {
      "cell_type": "code",
      "source": [
        "\n",
        "\n",
        "from keras.callbacks import EarlyStopping\n",
        "from sklearn import metrics\n",
        "\n",
        "model = create_model()\n",
        "model.compile(optimizer='adam',\n",
        "                    loss=my_agce_loss,\n",
        "                    metrics=['accuracy'])\n",
        "\n",
        "history = model.fit(X_train_train,\n",
        "                      y_train_train,\n",
        "                      batch_size=512,\n",
        "                      epochs=25,\n",
        "                      verbose=True,\n",
        "                      validation_data=(X_train_val,\n",
        "                                      y_train_val_correct),\n",
        "                      callbacks=\n",
        "                      [EarlyStopping(patience=4,mode='min',\n",
        "                                    verbose=True)]\n",
        "                      )\n",
        "\n",
        "# Evaluate the model\n",
        "#loss, accuracy = model.evaluate(x_test, y_test, verbose=0)\n",
        "#y_pred = model.predict(x_test)\n",
        "y_pred_probs = model.predict(x_test)  # Get predicted probabilities\n",
        "y_pred = np.argmax(y_pred_probs, axis=1)  # Convert probabilities to class labels\n",
        "\n",
        "\n",
        "\n",
        "acc = metrics.accuracy_score(y_test, y_pred)\n",
        "macro_averaged_f1 = metrics.f1_score(y_test, y_pred, average = 'macro')\n",
        "print(\"accuracy\",acc)\n",
        "print(\"macro_f1\",macro_averaged_f1)\n"
      ],
      "metadata": {
        "colab": {
          "base_uri": "https://localhost:8080/"
        },
        "id": "rHNT7gLpdH-D",
        "outputId": "80685640-3847-44d6-d93f-877ed720bb4f"
      },
      "execution_count": null,
      "outputs": [
        {
          "output_type": "stream",
          "name": "stderr",
          "text": [
            "/usr/local/lib/python3.11/dist-packages/keras/src/layers/reshaping/reshape.py:39: UserWarning: Do not pass an `input_shape`/`input_dim` argument to a layer. When using Sequential models, prefer using an `Input(shape)` object as the first layer in the model instead.\n",
            "  super().__init__(**kwargs)\n"
          ]
        },
        {
          "output_type": "stream",
          "name": "stdout",
          "text": [
            "Epoch 1/25\n",
            "\u001b[1m106/106\u001b[0m \u001b[32m━━━━━━━━━━━━━━━━━━━━\u001b[0m\u001b[37m\u001b[0m \u001b[1m3s\u001b[0m 16ms/step - accuracy: 0.2845 - loss: 0.2653 - val_accuracy: 0.3050 - val_loss: 0.2632\n",
            "Epoch 2/25\n",
            "\u001b[1m106/106\u001b[0m \u001b[32m━━━━━━━━━━━━━━━━━━━━\u001b[0m\u001b[37m\u001b[0m \u001b[1m2s\u001b[0m 11ms/step - accuracy: 0.4579 - loss: 0.2561 - val_accuracy: 0.3418 - val_loss: 0.2614\n",
            "Epoch 3/25\n",
            "\u001b[1m106/106\u001b[0m \u001b[32m━━━━━━━━━━━━━━━━━━━━\u001b[0m\u001b[37m\u001b[0m \u001b[1m1s\u001b[0m 10ms/step - accuracy: 0.4770 - loss: 0.2550 - val_accuracy: 0.3628 - val_loss: 0.2604\n",
            "Epoch 4/25\n",
            "\u001b[1m106/106\u001b[0m \u001b[32m━━━━━━━━━━━━━━━━━━━━\u001b[0m\u001b[37m\u001b[0m \u001b[1m1s\u001b[0m 10ms/step - accuracy: 0.4898 - loss: 0.2543 - val_accuracy: 0.3662 - val_loss: 0.2601\n",
            "Epoch 5/25\n",
            "\u001b[1m106/106\u001b[0m \u001b[32m━━━━━━━━━━━━━━━━━━━━\u001b[0m\u001b[37m\u001b[0m \u001b[1m1s\u001b[0m 12ms/step - accuracy: 0.4967 - loss: 0.2540 - val_accuracy: 0.3702 - val_loss: 0.2599\n",
            "Epoch 6/25\n",
            "\u001b[1m106/106\u001b[0m \u001b[32m━━━━━━━━━━━━━━━━━━━━\u001b[0m\u001b[37m\u001b[0m \u001b[1m2s\u001b[0m 11ms/step - accuracy: 0.5012 - loss: 0.2537 - val_accuracy: 0.3715 - val_loss: 0.2598\n",
            "Epoch 7/25\n",
            "\u001b[1m106/106\u001b[0m \u001b[32m━━━━━━━━━━━━━━━━━━━━\u001b[0m\u001b[37m\u001b[0m \u001b[1m1s\u001b[0m 12ms/step - accuracy: 0.5033 - loss: 0.2536 - val_accuracy: 0.3717 - val_loss: 0.2598\n",
            "Epoch 8/25\n",
            "\u001b[1m106/106\u001b[0m \u001b[32m━━━━━━━━━━━━━━━━━━━━\u001b[0m\u001b[37m\u001b[0m \u001b[1m2s\u001b[0m 16ms/step - accuracy: 0.5050 - loss: 0.2535 - val_accuracy: 0.3717 - val_loss: 0.2598\n",
            "Epoch 9/25\n",
            "\u001b[1m106/106\u001b[0m \u001b[32m━━━━━━━━━━━━━━━━━━━━\u001b[0m\u001b[37m\u001b[0m \u001b[1m2s\u001b[0m 13ms/step - accuracy: 0.5069 - loss: 0.2534 - val_accuracy: 0.3717 - val_loss: 0.2598\n",
            "Epoch 10/25\n",
            "\u001b[1m106/106\u001b[0m \u001b[32m━━━━━━━━━━━━━━━━━━━━\u001b[0m\u001b[37m\u001b[0m \u001b[1m1s\u001b[0m 10ms/step - accuracy: 0.5078 - loss: 0.2533 - val_accuracy: 0.3743 - val_loss: 0.2596\n",
            "Epoch 11/25\n",
            "\u001b[1m106/106\u001b[0m \u001b[32m━━━━━━━━━━━━━━━━━━━━\u001b[0m\u001b[37m\u001b[0m \u001b[1m1s\u001b[0m 10ms/step - accuracy: 0.5087 - loss: 0.2533 - val_accuracy: 0.3787 - val_loss: 0.2595\n",
            "Epoch 12/25\n",
            "\u001b[1m106/106\u001b[0m \u001b[32m━━━━━━━━━━━━━━━━━━━━\u001b[0m\u001b[37m\u001b[0m \u001b[1m1s\u001b[0m 12ms/step - accuracy: 0.5088 - loss: 0.2533 - val_accuracy: 0.3802 - val_loss: 0.2594\n",
            "Epoch 13/25\n",
            "\u001b[1m106/106\u001b[0m \u001b[32m━━━━━━━━━━━━━━━━━━━━\u001b[0m\u001b[37m\u001b[0m \u001b[1m2s\u001b[0m 10ms/step - accuracy: 0.5098 - loss: 0.2532 - val_accuracy: 0.3740 - val_loss: 0.2596\n",
            "Epoch 14/25\n",
            "\u001b[1m106/106\u001b[0m \u001b[32m━━━━━━━━━━━━━━━━━━━━\u001b[0m\u001b[37m\u001b[0m \u001b[1m1s\u001b[0m 11ms/step - accuracy: 0.5121 - loss: 0.2531 - val_accuracy: 0.3748 - val_loss: 0.2596\n",
            "Epoch 15/25\n",
            "\u001b[1m106/106\u001b[0m \u001b[32m━━━━━━━━━━━━━━━━━━━━\u001b[0m\u001b[37m\u001b[0m \u001b[1m1s\u001b[0m 10ms/step - accuracy: 0.5134 - loss: 0.2530 - val_accuracy: 0.3757 - val_loss: 0.2596\n",
            "Epoch 16/25\n",
            "\u001b[1m106/106\u001b[0m \u001b[32m━━━━━━━━━━━━━━━━━━━━\u001b[0m\u001b[37m\u001b[0m \u001b[1m2s\u001b[0m 13ms/step - accuracy: 0.5138 - loss: 0.2530 - val_accuracy: 0.3780 - val_loss: 0.2595\n",
            "Epoch 16: early stopping\n",
            "\u001b[1m313/313\u001b[0m \u001b[32m━━━━━━━━━━━━━━━━━━━━\u001b[0m\u001b[37m\u001b[0m \u001b[1m1s\u001b[0m 3ms/step\n",
            "accuracy 0.3697\n",
            "macro_f1 0.2533707077980366\n"
          ]
        }
      ]
    },
    {
      "cell_type": "code",
      "source": [
        "\n",
        "import matplotlib.pyplot as plt\n",
        "\n",
        "plt.figure(figsize=(12, 5))\n",
        "\n",
        "# Plot training & validation accuracy values\n",
        "plt.subplot(1, 2, 1)\n",
        "plt.plot(history.history['accuracy'])\n",
        "plt.plot(history.history['val_accuracy'])\n",
        "plt.title('Model Accuracy')\n",
        "plt.ylabel('Accuracy')\n",
        "plt.xlabel('Epoch')\n",
        "plt.legend(['Train', 'Validation'], loc='upper left')\n",
        "\n",
        "# Plot training & validation loss values\n",
        "plt.subplot(1, 2, 2)\n",
        "plt.plot(history.history['loss'])\n",
        "plt.plot(history.history['val_loss'])\n",
        "plt.title('Model Loss')\n",
        "plt.ylabel('Loss')\n",
        "plt.xlabel('Epoch')\n",
        "plt.legend(['Train', 'Validation'], loc='upper left')\n",
        "\n",
        "plt.tight_layout()\n",
        "plt.show()"
      ],
      "metadata": {
        "colab": {
          "base_uri": "https://localhost:8080/",
          "height": 507
        },
        "id": "APU5RpI3cj7z",
        "outputId": "2d1cae4f-b5d1-4d69-d298-01754e4787f2"
      },
      "execution_count": null,
      "outputs": [
        {
          "output_type": "display_data",
          "data": {
            "text/plain": [
              "<Figure size 1200x500 with 2 Axes>"
            ],
            "image/png": "[encoded data removed]"
          },
          "metadata": {}
        }
      ]
    },
    {
      "cell_type": "code",
      "source": [
        "print(NOISE_LEVEL)"
      ],
      "metadata": {
        "colab": {
          "base_uri": "https://localhost:8080/"
        },
        "id": "NQFmz_rZ2lV8",
        "outputId": "f46653f4-b97a-43a2-bfc6-0df48b1f8497"
      },
      "execution_count": null,
      "outputs": [
        {
          "output_type": "stream",
          "name": "stdout",
          "text": [
            "0.6\n"
          ]
        }
      ]
    },
    {
      "cell_type": "code",
      "source": [
        "from sklearn.model_selection import StratifiedShuffleSplit\n",
        "\n",
        "from keras.callbacks import EarlyStopping\n",
        "from sklearn import metrics\n",
        "import numpy as np\n",
        "\n",
        "seeds = [42, 123, 456]\n",
        "all_results = []\n",
        "\n",
        "for seed in seeds:\n",
        "    print(f\"Running with seed: {seed}\")\n",
        "    tf.random.set_seed(seed)\n",
        "    np.random.seed(seed) # Set numpy seed as well\n",
        "\n",
        "\n",
        "    if NOISE_LEVEL > 0:\n",
        "      _, noise_idx = next(iter(StratifiedShuffleSplit(n_splits=1,\n",
        "                                                      test_size=NOISE_LEVEL,\n",
        "                                                      random_state=seed).split(x_train,y_train)))\n",
        "      y_train_noise = y_train.copy()\n",
        "      y_train_noise[noise_idx] = noise[noise_idx]\n",
        "      # break the training set to 10% validation which we will use for early stopping.\n",
        "      train_idx, val_idx = next(iter(\n",
        "              StratifiedShuffleSplit(n_splits=1, test_size=0.1,\n",
        "                                    random_state=seed).split(x_train, y_train_noise)))\n",
        "      X_train_train = x_train[train_idx]\n",
        "      y_train_correct = y_train[train_idx]\n",
        "      y_train_train = y_train_noise[train_idx]\n",
        "      X_train_val = x_train[val_idx]\n",
        "      y_train_val = y_train_noise[val_idx]\n",
        "      y_train_val_correct = y_train[val_idx]\n",
        "    else:\n",
        "      train_idx, val_idx = next(iter(\n",
        "            StratifiedShuffleSplit(n_splits=1, test_size=0.1,\n",
        "                                  random_state=seed).split(x_train, y_train)))\n",
        "      X_train_train = x_train[train_idx]\n",
        "      y_train_train = y_train[train_idx]\n",
        "      y_train_correct = y_train[train_idx]\n",
        "      X_train_val = x_train[val_idx]\n",
        "      y_train_val = y_train[val_idx]\n",
        "      y_train_val_correct = y_train[val_idx]\n",
        "\n",
        "    model = create_model()\n",
        "    model.compile(optimizer='adam',\n",
        "                        loss=my_agce_loss,\n",
        "                        metrics=['accuracy'])\n",
        "\n",
        "    train_res = model.fit(X_train_train,\n",
        "                          y_train_train,\n",
        "                          batch_size=512,\n",
        "                          epochs=25,\n",
        "                          verbose=True,\n",
        "                          validation_data=(X_train_val,\n",
        "                                          y_train_val_correct),\n",
        "                          callbacks=\n",
        "                          [EarlyStopping(patience=4,mode='min',\n",
        "                                        verbose=True)]\n",
        "                          )\n",
        "\n",
        "    # Evaluate the model\n",
        "    #loss, accuracy = model.evaluate(x_test, y_test, verbose=0)\n",
        "    #y_pred = model.predict(x_test)\n",
        "    y_pred_probs = model.predict(x_test)  # Get predicted probabilities\n",
        "    y_pred = np.argmax(y_pred_probs, axis=1)  # Convert probabilities to class labels\n",
        "\n",
        "    acc = metrics.accuracy_score(y_test, y_pred)\n",
        "    macro_averaged_f1 = metrics.f1_score(y_test, y_pred, average = 'macro')\n",
        "    all_results.append(acc)\n",
        "    print(\"accuracy\",acc)\n",
        "    print(\"macro_f1\",macro_averaged_f1)\n",
        "\n",
        "\n",
        "mean_accuracy = np.mean(all_results)\n",
        "std_accuracy = np.std(all_results)\n",
        "\n",
        "print(f\"Mean accuracy: {mean_accuracy:.4f} +/- {std_accuracy:.4f}\")"
      ],
      "metadata": {
        "colab": {
          "base_uri": "https://localhost:8080/"
        },
        "id": "l7vxFawBuY6c",
        "outputId": "7dd692a7-be2e-41d6-e409-f05373fed4a4"
      },
      "execution_count": null,
      "outputs": [
        {
          "output_type": "stream",
          "name": "stdout",
          "text": [
            "Running with seed: 42\n"
          ]
        },
        {
          "output_type": "stream",
          "name": "stderr",
          "text": [
            "/usr/local/lib/python3.11/dist-packages/keras/src/layers/reshaping/reshape.py:39: UserWarning: Do not pass an `input_shape`/`input_dim` argument to a layer. When using Sequential models, prefer using an `Input(shape)` object as the first layer in the model instead.\n",
            "  super().__init__(**kwargs)\n"
          ]
        },
        {
          "output_type": "stream",
          "name": "stdout",
          "text": [
            "Epoch 1/25\n",
            "\u001b[1m106/106\u001b[0m \u001b[32m━━━━━━━━━━━━━━━━━━━━\u001b[0m\u001b[37m\u001b[0m \u001b[1m3s\u001b[0m 12ms/step - accuracy: 0.3143 - loss: 0.2651 - val_accuracy: 0.2947 - val_loss: 0.2636\n",
            "Epoch 2/25\n",
            "\u001b[1m106/106\u001b[0m \u001b[32m━━━━━━━━━━━━━━━━━━━━\u001b[0m\u001b[37m\u001b[0m \u001b[1m1s\u001b[0m 11ms/step - accuracy: 0.4779 - loss: 0.2552 - val_accuracy: 0.2973 - val_loss: 0.2633\n",
            "Epoch 3/25\n",
            "\u001b[1m106/106\u001b[0m \u001b[32m━━━━━━━━━━━━━━━━━━━━\u001b[0m\u001b[37m\u001b[0m \u001b[1m1s\u001b[0m 10ms/step - accuracy: 0.4963 - loss: 0.2541 - val_accuracy: 0.2998 - val_loss: 0.2632\n",
            "Epoch 4/25\n",
            "\u001b[1m106/106\u001b[0m \u001b[32m━━━━━━━━━━━━━━━━━━━━\u001b[0m\u001b[37m\u001b[0m \u001b[1m1s\u001b[0m 10ms/step - accuracy: 0.5039 - loss: 0.2537 - val_accuracy: 0.3012 - val_loss: 0.2631\n",
            "Epoch 5/25\n",
            "\u001b[1m106/106\u001b[0m \u001b[32m━━━━━━━━━━━━━━━━━━━━\u001b[0m\u001b[37m\u001b[0m \u001b[1m1s\u001b[0m 10ms/step - accuracy: 0.5080 - loss: 0.2534 - val_accuracy: 0.3030 - val_loss: 0.2630\n",
            "Epoch 6/25\n",
            "\u001b[1m106/106\u001b[0m \u001b[32m━━━━━━━━━━━━━━━━━━━━\u001b[0m\u001b[37m\u001b[0m \u001b[1m1s\u001b[0m 10ms/step - accuracy: 0.5111 - loss: 0.2532 - val_accuracy: 0.3033 - val_loss: 0.2630\n",
            "Epoch 7/25\n",
            "\u001b[1m106/106\u001b[0m \u001b[32m━━━━━━━━━━━━━━━━━━━━\u001b[0m\u001b[37m\u001b[0m \u001b[1m2s\u001b[0m 14ms/step - accuracy: 0.5138 - loss: 0.2531 - val_accuracy: 0.3033 - val_loss: 0.2631\n",
            "Epoch 8/25\n",
            "\u001b[1m106/106\u001b[0m \u001b[32m━━━━━━━━━━━━━━━━━━━━\u001b[0m\u001b[37m\u001b[0m \u001b[1m3s\u001b[0m 16ms/step - accuracy: 0.5151 - loss: 0.2530 - val_accuracy: 0.3023 - val_loss: 0.2630\n",
            "Epoch 9/25\n",
            "\u001b[1m106/106\u001b[0m \u001b[32m━━━━━━━━━━━━━━━━━━━━\u001b[0m\u001b[37m\u001b[0m \u001b[1m1s\u001b[0m 10ms/step - accuracy: 0.5178 - loss: 0.2529 - val_accuracy: 0.3008 - val_loss: 0.2631\n",
            "Epoch 10/25\n",
            "\u001b[1m106/106\u001b[0m \u001b[32m━━━━━━━━━━━━━━━━━━━━\u001b[0m\u001b[37m\u001b[0m \u001b[1m1s\u001b[0m 10ms/step - accuracy: 0.5201 - loss: 0.2528 - val_accuracy: 0.3012 - val_loss: 0.2630\n",
            "Epoch 10: early stopping\n",
            "\u001b[1m313/313\u001b[0m \u001b[32m━━━━━━━━━━━━━━━━━━━━\u001b[0m\u001b[37m\u001b[0m \u001b[1m1s\u001b[0m 2ms/step\n",
            "accuracy 0.3051\n",
            "macro_f1 0.20381574166514915\n",
            "Running with seed: 123\n"
          ]
        },
        {
          "output_type": "stream",
          "name": "stderr",
          "text": [
            "/usr/local/lib/python3.11/dist-packages/keras/src/layers/reshaping/reshape.py:39: UserWarning: Do not pass an `input_shape`/`input_dim` argument to a layer. When using Sequential models, prefer using an `Input(shape)` object as the first layer in the model instead.\n",
            "  super().__init__(**kwargs)\n"
          ]
        },
        {
          "output_type": "stream",
          "name": "stdout",
          "text": [
            "Epoch 1/25\n",
            "\u001b[1m106/106\u001b[0m \u001b[32m━━━━━━━━━━━━━━━━━━━━\u001b[0m\u001b[37m\u001b[0m \u001b[1m3s\u001b[0m 12ms/step - accuracy: 0.2798 - loss: 0.2658 - val_accuracy: 0.2727 - val_loss: 0.2646\n",
            "Epoch 2/25\n",
            "\u001b[1m106/106\u001b[0m \u001b[32m━━━━━━━━━━━━━━━━━━━━\u001b[0m\u001b[37m\u001b[0m \u001b[1m2s\u001b[0m 11ms/step - accuracy: 0.4430 - loss: 0.2567 - val_accuracy: 0.2878 - val_loss: 0.2638\n",
            "Epoch 3/25\n",
            "\u001b[1m106/106\u001b[0m \u001b[32m━━━━━━━━━━━━━━━━━━━━\u001b[0m\u001b[37m\u001b[0m \u001b[1m1s\u001b[0m 13ms/step - accuracy: 0.4601 - loss: 0.2558 - val_accuracy: 0.3570 - val_loss: 0.2606\n",
            "Epoch 4/25\n",
            "\u001b[1m106/106\u001b[0m \u001b[32m━━━━━━━━━━━━━━━━━━━━\u001b[0m\u001b[37m\u001b[0m \u001b[1m3s\u001b[0m 15ms/step - accuracy: 0.4837 - loss: 0.2546 - val_accuracy: 0.3598 - val_loss: 0.2604\n",
            "Epoch 5/25\n",
            "\u001b[1m106/106\u001b[0m \u001b[32m━━━━━━━━━━━━━━━━━━━━\u001b[0m\u001b[37m\u001b[0m \u001b[1m1s\u001b[0m 11ms/step - accuracy: 0.4897 - loss: 0.2543 - val_accuracy: 0.3665 - val_loss: 0.2601\n",
            "Epoch 6/25\n",
            "\u001b[1m106/106\u001b[0m \u001b[32m━━━━━━━━━━━━━━━━━━━━\u001b[0m\u001b[37m\u001b[0m \u001b[1m1s\u001b[0m 10ms/step - accuracy: 0.4941 - loss: 0.2541 - val_accuracy: 0.3693 - val_loss: 0.2600\n",
            "Epoch 7/25\n",
            "\u001b[1m106/106\u001b[0m \u001b[32m━━━━━━━━━━━━━━━━━━━━\u001b[0m\u001b[37m\u001b[0m \u001b[1m1s\u001b[0m 12ms/step - accuracy: 0.4976 - loss: 0.2539 - val_accuracy: 0.3692 - val_loss: 0.2600\n",
            "Epoch 8/25\n",
            "\u001b[1m106/106\u001b[0m \u001b[32m━━━━━━━━━━━━━━━━━━━━\u001b[0m\u001b[37m\u001b[0m \u001b[1m1s\u001b[0m 10ms/step - accuracy: 0.5002 - loss: 0.2537 - val_accuracy: 0.3690 - val_loss: 0.2599\n",
            "Epoch 9/25\n",
            "\u001b[1m106/106\u001b[0m \u001b[32m━━━━━━━━━━━━━━━━━━━━\u001b[0m\u001b[37m\u001b[0m \u001b[1m1s\u001b[0m 11ms/step - accuracy: 0.5021 - loss: 0.2536 - val_accuracy: 0.3688 - val_loss: 0.2599\n",
            "Epoch 10/25\n",
            "\u001b[1m106/106\u001b[0m \u001b[32m━━━━━━━━━━━━━━━━━━━━\u001b[0m\u001b[37m\u001b[0m \u001b[1m1s\u001b[0m 10ms/step - accuracy: 0.5042 - loss: 0.2535 - val_accuracy: 0.3728 - val_loss: 0.2597\n",
            "Epoch 11/25\n",
            "\u001b[1m106/106\u001b[0m \u001b[32m━━━━━━━━━━━━━━━━━━━━\u001b[0m\u001b[37m\u001b[0m \u001b[1m1s\u001b[0m 12ms/step - accuracy: 0.5056 - loss: 0.2534 - val_accuracy: 0.3695 - val_loss: 0.2599\n",
            "Epoch 12/25\n",
            "\u001b[1m106/106\u001b[0m \u001b[32m━━━━━━━━━━━━━━━━━━━━\u001b[0m\u001b[37m\u001b[0m \u001b[1m1s\u001b[0m 11ms/step - accuracy: 0.5070 - loss: 0.2534 - val_accuracy: 0.3553 - val_loss: 0.2606\n",
            "Epoch 13/25\n",
            "\u001b[1m106/106\u001b[0m \u001b[32m━━━━━━━━━━━━━━━━━━━━\u001b[0m\u001b[37m\u001b[0m \u001b[1m2s\u001b[0m 16ms/step - accuracy: 0.5114 - loss: 0.2532 - val_accuracy: 0.2802 - val_loss: 0.2641\n",
            "Epoch 14/25\n",
            "\u001b[1m106/106\u001b[0m \u001b[32m━━━━━━━━━━━━━━━━━━━━\u001b[0m\u001b[37m\u001b[0m \u001b[1m2s\u001b[0m 13ms/step - accuracy: 0.5237 - loss: 0.2526 - val_accuracy: 0.2793 - val_loss: 0.2642\n",
            "Epoch 14: early stopping\n",
            "\u001b[1m313/313\u001b[0m \u001b[32m━━━━━━━━━━━━━━━━━━━━\u001b[0m\u001b[37m\u001b[0m \u001b[1m1s\u001b[0m 2ms/step\n",
            "accuracy 0.274\n",
            "macro_f1 0.19234310339592992\n",
            "Running with seed: 456\n"
          ]
        },
        {
          "output_type": "stream",
          "name": "stderr",
          "text": [
            "/usr/local/lib/python3.11/dist-packages/keras/src/layers/reshaping/reshape.py:39: UserWarning: Do not pass an `input_shape`/`input_dim` argument to a layer. When using Sequential models, prefer using an `Input(shape)` object as the first layer in the model instead.\n",
            "  super().__init__(**kwargs)\n"
          ]
        },
        {
          "output_type": "stream",
          "name": "stdout",
          "text": [
            "Epoch 1/25\n",
            "\u001b[1m106/106\u001b[0m \u001b[32m━━━━━━━━━━━━━━━━━━━━\u001b[0m\u001b[37m\u001b[0m \u001b[1m3s\u001b[0m 12ms/step - accuracy: 0.3349 - loss: 0.2642 - val_accuracy: 0.2247 - val_loss: 0.2671\n",
            "Epoch 2/25\n",
            "\u001b[1m106/106\u001b[0m \u001b[32m━━━━━━━━━━━━━━━━━━━━\u001b[0m\u001b[37m\u001b[0m \u001b[1m2s\u001b[0m 12ms/step - accuracy: 0.4819 - loss: 0.2549 - val_accuracy: 0.2502 - val_loss: 0.2658\n",
            "Epoch 3/25\n",
            "\u001b[1m106/106\u001b[0m \u001b[32m━━━━━━━━━━━━━━━━━━━━\u001b[0m\u001b[37m\u001b[0m \u001b[1m1s\u001b[0m 10ms/step - accuracy: 0.5053 - loss: 0.2537 - val_accuracy: 0.2573 - val_loss: 0.2654\n",
            "Epoch 4/25\n",
            "\u001b[1m106/106\u001b[0m \u001b[32m━━━━━━━━━━━━━━━━━━━━\u001b[0m\u001b[37m\u001b[0m \u001b[1m2s\u001b[0m 16ms/step - accuracy: 0.5146 - loss: 0.2532 - val_accuracy: 0.2595 - val_loss: 0.2652\n",
            "Epoch 5/25\n",
            "\u001b[1m106/106\u001b[0m \u001b[32m━━━━━━━━━━━━━━━━━━━━\u001b[0m\u001b[37m\u001b[0m \u001b[1m2s\u001b[0m 14ms/step - accuracy: 0.5184 - loss: 0.2529 - val_accuracy: 0.2623 - val_loss: 0.2651\n",
            "Epoch 6/25\n",
            "\u001b[1m106/106\u001b[0m \u001b[32m━━━━━━━━━━━━━━━━━━━━\u001b[0m\u001b[37m\u001b[0m \u001b[1m1s\u001b[0m 10ms/step - accuracy: 0.5221 - loss: 0.2527 - val_accuracy: 0.2608 - val_loss: 0.2651\n",
            "Epoch 7/25\n",
            "\u001b[1m106/106\u001b[0m \u001b[32m━━━━━━━━━━━━━━━━━━━━\u001b[0m\u001b[37m\u001b[0m \u001b[1m1s\u001b[0m 11ms/step - accuracy: 0.5245 - loss: 0.2526 - val_accuracy: 0.2633 - val_loss: 0.2650\n",
            "Epoch 8/25\n",
            "\u001b[1m106/106\u001b[0m \u001b[32m━━━━━━━━━━━━━━━━━━━━\u001b[0m\u001b[37m\u001b[0m \u001b[1m1s\u001b[0m 10ms/step - accuracy: 0.5255 - loss: 0.2525 - val_accuracy: 0.2628 - val_loss: 0.2650\n",
            "Epoch 9/25\n",
            "\u001b[1m106/106\u001b[0m \u001b[32m━━━━━━━━━━━━━━━━━━━━\u001b[0m\u001b[37m\u001b[0m \u001b[1m1s\u001b[0m 10ms/step - accuracy: 0.5273 - loss: 0.2524 - val_accuracy: 0.2645 - val_loss: 0.2649\n",
            "Epoch 10/25\n",
            "\u001b[1m106/106\u001b[0m \u001b[32m━━━━━━━━━━━━━━━━━━━━\u001b[0m\u001b[37m\u001b[0m \u001b[1m1s\u001b[0m 11ms/step - accuracy: 0.5288 - loss: 0.2523 - val_accuracy: 0.2657 - val_loss: 0.2648\n",
            "Epoch 11/25\n",
            "\u001b[1m106/106\u001b[0m \u001b[32m━━━━━━━━━━━━━━━━━━━━\u001b[0m\u001b[37m\u001b[0m \u001b[1m1s\u001b[0m 12ms/step - accuracy: 0.5302 - loss: 0.2523 - val_accuracy: 0.2672 - val_loss: 0.2648\n",
            "Epoch 12/25\n",
            "\u001b[1m106/106\u001b[0m \u001b[32m━━━━━━━━━━━━━━━━━━━━\u001b[0m\u001b[37m\u001b[0m \u001b[1m3s\u001b[0m 14ms/step - accuracy: 0.5311 - loss: 0.2522 - val_accuracy: 0.2692 - val_loss: 0.2647\n",
            "Epoch 13/25\n",
            "\u001b[1m106/106\u001b[0m \u001b[32m━━━━━━━━━━━━━━━━━━━━\u001b[0m\u001b[37m\u001b[0m \u001b[1m2s\u001b[0m 16ms/step - accuracy: 0.5322 - loss: 0.2521 - val_accuracy: 0.2712 - val_loss: 0.2645\n",
            "Epoch 14/25\n",
            "\u001b[1m106/106\u001b[0m \u001b[32m━━━━━━━━━━━━━━━━━━━━\u001b[0m\u001b[37m\u001b[0m \u001b[1m2s\u001b[0m 11ms/step - accuracy: 0.5331 - loss: 0.2521 - val_accuracy: 0.2717 - val_loss: 0.2645\n",
            "Epoch 15/25\n",
            "\u001b[1m106/106\u001b[0m \u001b[32m━━━━━━━━━━━━━━━━━━━━\u001b[0m\u001b[37m\u001b[0m \u001b[1m1s\u001b[0m 10ms/step - accuracy: 0.5332 - loss: 0.2521 - val_accuracy: 0.2712 - val_loss: 0.2645\n",
            "Epoch 16/25\n",
            "\u001b[1m106/106\u001b[0m \u001b[32m━━━━━━━━━━━━━━━━━━━━\u001b[0m\u001b[37m\u001b[0m \u001b[1m1s\u001b[0m 11ms/step - accuracy: 0.5341 - loss: 0.2520 - val_accuracy: 0.2720 - val_loss: 0.2645\n",
            "Epoch 17/25\n",
            "\u001b[1m106/106\u001b[0m \u001b[32m━━━━━━━━━━━━━━━━━━━━\u001b[0m\u001b[37m\u001b[0m \u001b[1m1s\u001b[0m 10ms/step - accuracy: 0.5353 - loss: 0.2520 - val_accuracy: 0.2723 - val_loss: 0.2645\n",
            "Epoch 18/25\n",
            "\u001b[1m106/106\u001b[0m \u001b[32m━━━━━━━━━━━━━━━━━━━━\u001b[0m\u001b[37m\u001b[0m \u001b[1m1s\u001b[0m 11ms/step - accuracy: 0.5359 - loss: 0.2519 - val_accuracy: 0.2722 - val_loss: 0.2645\n",
            "Epoch 19/25\n",
            "\u001b[1m106/106\u001b[0m \u001b[32m━━━━━━━━━━━━━━━━━━━━\u001b[0m\u001b[37m\u001b[0m \u001b[1m1s\u001b[0m 10ms/step - accuracy: 0.5367 - loss: 0.2519 - val_accuracy: 0.2703 - val_loss: 0.2646\n",
            "Epoch 20/25\n",
            "\u001b[1m106/106\u001b[0m \u001b[32m━━━━━━━━━━━━━━━━━━━━\u001b[0m\u001b[37m\u001b[0m \u001b[1m1s\u001b[0m 10ms/step - accuracy: 0.5368 - loss: 0.2519 - val_accuracy: 0.2737 - val_loss: 0.2644\n",
            "Epoch 21/25\n",
            "\u001b[1m106/106\u001b[0m \u001b[32m━━━━━━━━━━━━━━━━━━━━\u001b[0m\u001b[37m\u001b[0m \u001b[1m1s\u001b[0m 10ms/step - accuracy: 0.5368 - loss: 0.2519 - val_accuracy: 0.2718 - val_loss: 0.2645\n",
            "Epoch 22/25\n",
            "\u001b[1m106/106\u001b[0m \u001b[32m━━━━━━━━━━━━━━━━━━━━\u001b[0m\u001b[37m\u001b[0m \u001b[1m2s\u001b[0m 15ms/step - accuracy: 0.5367 - loss: 0.2519 - val_accuracy: 0.2723 - val_loss: 0.2645\n",
            "Epoch 23/25\n",
            "\u001b[1m106/106\u001b[0m \u001b[32m━━━━━━━━━━━━━━━━━━━━\u001b[0m\u001b[37m\u001b[0m \u001b[1m3s\u001b[0m 16ms/step - accuracy: 0.5372 - loss: 0.2518 - val_accuracy: 0.2718 - val_loss: 0.2645\n",
            "Epoch 24/25\n",
            "\u001b[1m106/106\u001b[0m \u001b[32m━━━━━━━━━━━━━━━━━━━━\u001b[0m\u001b[37m\u001b[0m \u001b[1m2s\u001b[0m 12ms/step - accuracy: 0.5383 - loss: 0.2518 - val_accuracy: 0.2727 - val_loss: 0.2645\n",
            "Epoch 24: early stopping\n",
            "\u001b[1m313/313\u001b[0m \u001b[32m━━━━━━━━━━━━━━━━━━━━\u001b[0m\u001b[37m\u001b[0m \u001b[1m1s\u001b[0m 2ms/step\n",
            "accuracy 0.2711\n",
            "macro_f1 0.18770255784797732\n",
            "Mean accuracy: 0.2834 +/- 0.0154\n"
          ]
        }
      ]
    },
    {
      "cell_type": "code",
      "execution_count": null,
      "metadata": {
        "id": "b26D_UnB0qzF"
      },
      "outputs": [],
      "source": []
    },
    {
      "cell_type": "code",
      "source": [
        "\n",
        "\n",
        "# from keras.callbacks import EarlyStopping\n",
        "# from sklearn import metrics\n",
        "\n",
        "# func_dict = {\n",
        "#     \"sparse_categorical_crossentropy\":\"sparse_categorical_crossentropy\",\n",
        "#     \"crossentropy_max_wrap\": c_mwrap_lossfn,\n",
        "#     \"lq_loss_wrap\": lq_loss_fn,\n",
        "#     \"symmetric_cross_entropy\": symloss_fn,\n",
        "#     \"crossentropy_reed_wrap\": crentr_loss_fn,\n",
        "#     \"noise_aware_loss\":noise_aware_loss\n",
        "\n",
        "# }\n",
        "\n",
        "# data_dict = []\n",
        "# for loss_func_name in func_dict.keys():\n",
        "#     lossfunction = func_dict[loss_func_name]\n",
        "#     model = create_model()\n",
        "#     model.compile(optimizer='adam',\n",
        "#                     loss=lossfunction,\n",
        "#                     metrics=['accuracy'])\n",
        "\n",
        "#     # Train the model\n",
        "#     #model.fit(x_train, y_train, epochs=5)\n",
        "\n",
        "#     train_res = model.fit(X_train_train,\n",
        "#                           y_train_train,\n",
        "#                           batch_size=512,\n",
        "#                           epochs=5,\n",
        "#                           verbose=True,\n",
        "#                           validation_data=(X_train_val,\n",
        "#                                           y_train_val),\n",
        "#                           callbacks=\n",
        "#                           [EarlyStopping(patience=4,mode='min',\n",
        "#                                         verbose=True)]\n",
        "#                           )\n",
        "\n",
        "#     # Evaluate the model\n",
        "#     #loss, accuracy = model.evaluate(x_test, y_test, verbose=0)\n",
        "#     #y_pred = model.predict(x_test)\n",
        "#     y_pred_probs = model.predict(x_test)  # Get predicted probabilities\n",
        "#     y_pred = np.argmax(y_pred_probs, axis=1)  # Convert probabilities to class labels\n",
        "\n",
        "\n",
        "\n",
        "#     acc = metrics.accuracy_score(y_test, y_pred)\n",
        "#     macro_averaged_f1 = metrics.f1_score(y_test, y_pred, average = 'macro')\n",
        "\n",
        "#     rec = {'lossfunc': loss_func_name, 'acc': acc, 'macro_f1':macro_averaged_f1 }\n",
        "#     data_dict.append(rec.copy())\n",
        "\n",
        "\n"
      ],
      "metadata": {
        "id": "xYyuJPpI3ZH4"
      },
      "execution_count": null,
      "outputs": []
    },
    {
      "cell_type": "code",
      "source": [
        "# import pandas as pd\n",
        "# res_df = pd.DataFrame(data_dict)\n",
        "# res_df"
      ],
      "metadata": {
        "id": "Zkq-7ojY5jVl"
      },
      "execution_count": null,
      "outputs": []
    },
    {
      "cell_type": "code",
      "source": [],
      "metadata": {
        "id": "MpfvuaJJ3gZW"
      },
      "execution_count": null,
      "outputs": []
    }
  ]
}